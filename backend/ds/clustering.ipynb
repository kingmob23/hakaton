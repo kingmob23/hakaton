{
 "cells": [
  {
   "cell_type": "code",
   "execution_count": 1,
   "id": "8da70e1c-e6e1-401e-b1db-7a4eb6355f11",
   "metadata": {},
   "outputs": [
    {
     "data": {
      "text/html": [
       "<div><style>\n",
       ".dataframe > thead > tr,\n",
       ".dataframe > tbody > tr {\n",
       "  text-align: right;\n",
       "  white-space: pre-wrap;\n",
       "}\n",
       "</style>\n",
       "<small>shape: (1_555_687, 44)</small><table border=\"1\" class=\"dataframe\"><thead><tr><th>video_id</th><th>v_pub_datetime</th><th>v_total_comments</th><th>v_year_views</th><th>v_month_views</th><th>v_week_views</th><th>v_day_views</th><th>v_likes</th><th>v_dislikes</th><th>v_duration</th><th>v_cr_click_like_7_days</th><th>v_cr_click_dislike_7_days</th><th>v_cr_click_vtop_7_days</th><th>v_cr_click_long_view_7_days</th><th>v_cr_click_comment_7_days</th><th>v_cr_click_like_30_days</th><th>v_cr_click_dislike_30_days</th><th>v_cr_click_vtop_30_days</th><th>v_cr_click_long_view_30_days</th><th>v_cr_click_comment_30_days</th><th>v_cr_click_like_1_days</th><th>v_cr_click_dislike_1_days</th><th>v_cr_click_vtop_1_days</th><th>v_cr_click_long_view_1_days</th><th>v_cr_click_comment_1_days</th><th>v_is_hidden</th><th>v_is_deleted</th><th>v_avg_watchtime_1_day</th><th>v_avg_watchtime_7_day</th><th>v_avg_watchtime_30_day</th><th>v_frac_avg_watchtime_1_day_duration</th><th>v_frac_avg_watchtime_7_day_duration</th><th>v_frac_avg_watchtime_30_day_duration</th><th>v_category_popularity_percent_7_days</th><th>v_category_popularity_percent_30_days</th><th>v_long_views_1_days</th><th>v_long_views_7_days</th><th>v_long_views_30_days</th><th>row_number</th><th>title</th><th>description</th><th>category_id</th><th>author_id</th><th>__index_level_0__</th></tr><tr><td>str</td><td>datetime[ms, Etc/GMT-3]</td><td>u64</td><td>u64</td><td>u64</td><td>u64</td><td>u64</td><td>u64</td><td>u64</td><td>f64</td><td>f64</td><td>f64</td><td>f64</td><td>f64</td><td>f64</td><td>f64</td><td>f64</td><td>f64</td><td>f64</td><td>f64</td><td>f64</td><td>f64</td><td>f64</td><td>f64</td><td>f64</td><td>u8</td><td>u8</td><td>f64</td><td>f64</td><td>f64</td><td>f64</td><td>f64</td><td>f64</td><td>f64</td><td>f64</td><td>u64</td><td>u64</td><td>u64</td><td>u64</td><td>str</td><td>str</td><td>str</td><td>str</td><td>i64</td></tr></thead><tbody><tr><td>&quot;973f24c0-15b2-434f-8740-4e2726…</td><td>2024-06-15 22:58:03 +03</td><td>0</td><td>556</td><td>2</td><td>0</td><td>0</td><td>0</td><td>0</td><td>7.733</td><td>0.0</td><td>0.0</td><td>0.0</td><td>0.0</td><td>0.0</td><td>0.0</td><td>0.0</td><td>0.0</td><td>0.0</td><td>0.0</td><td>0.0</td><td>0.0</td><td>0.0</td><td>0.0</td><td>0.0</td><td>0</td><td>0</td><td>0.0</td><td>0.0</td><td>0.0</td><td>0.0</td><td>0.0</td><td>0.0</td><td>1.656386</td><td>1.61675</td><td>0</td><td>0</td><td>0</td><td>1</td><td>&quot;пережила свой яд&quot;</td><td>&quot;&quot;</td><td>&quot;Мультфильмы&quot;</td><td>&quot;79276150-fdaf-4626-9452-6f1ad9…</td><td>0</td></tr><tr><td>&quot;1a3f527c-44b2-4f7e-9641-26f078…</td><td>2021-04-18 17:27:42 +03</td><td>0</td><td>109</td><td>2</td><td>1</td><td>0</td><td>0</td><td>0</td><td>379.0</td><td>0.0</td><td>0.0</td><td>0.0</td><td>0.0</td><td>0.0</td><td>0.0</td><td>0.0</td><td>0.0</td><td>0.0</td><td>0.0</td><td>0.0</td><td>0.0</td><td>0.0</td><td>0.0</td><td>0.0</td><td>0</td><td>0</td><td>0.0</td><td>-1.0</td><td>40.5</td><td>0.0</td><td>-0.002639</td><td>0.10686</td><td>5.570802</td><td>5.649635</td><td>0</td><td>0</td><td>0</td><td>1</td><td>&quot;🎓Знаете ли Вы, что  ؟    Интер…</td><td>&quot;🎓Знаете ли Вы, что  ?  Интерес…</td><td>&quot;Развлечения&quot;</td><td>&quot;16278647-5912-48af-a071-582dcf…</td><td>1</td></tr><tr><td>&quot;2f563d09-45ef-4e27-8da0-daa742…</td><td>2022-11-17 16:36:43 +03</td><td>0</td><td>163</td><td>2</td><td>2</td><td>0</td><td>0</td><td>0</td><td>1020.767</td><td>0.0</td><td>0.0</td><td>50.0</td><td>0.0</td><td>0.0</td><td>0.0</td><td>0.0</td><td>50.0</td><td>0.0</td><td>0.0</td><td>0.0</td><td>0.0</td><td>0.0</td><td>0.0</td><td>0.0</td><td>0</td><td>0</td><td>0.0</td><td>160.0</td><td>160.0</td><td>0.0</td><td>0.156745</td><td>0.156745</td><td>0.342614</td><td>0.28531</td><td>0</td><td>0</td><td>0</td><td>1</td><td>&quot;ЗИМНЯЯ, ТЕПЛАЯ ШЛЯПА крючком. …</td><td>&quot;Шляпа связана из пряжи NAKO Sp…</td><td>&quot;Хобби&quot;</td><td>&quot;9afa94aa-c2a6-43fc-a0d1-175eaf…</td><td>2</td></tr><tr><td>&quot;154fac0e-1794-4406-afa0-61f688…</td><td>2010-01-01 00:00:01 +03</td><td>0</td><td>10657</td><td>5227</td><td>1300</td><td>202</td><td>24</td><td>0</td><td>42.025</td><td>0.0</td><td>0.0</td><td>0.0</td><td>89.384615</td><td>0.0</td><td>0.40176</td><td>0.0</td><td>0.0</td><td>87.04802</td><td>0.0</td><td>0.0</td><td>0.0</td><td>0.0</td><td>92.079208</td><td>0.0</td><td>0</td><td>0</td><td>57.579208</td><td>97.19</td><td>122.290606</td><td>1.370118</td><td>2.312671</td><td>2.909949</td><td>0.418336</td><td>0.513562</td><td>186</td><td>1162</td><td>4550</td><td>1</td><td>&quot;найк&quot;</td><td>&quot;найк дрессура &quot;</td><td>&quot;Животные&quot;</td><td>&quot;4af9b043-40f4-4288-85c6-192612…</td><td>3</td></tr><tr><td>&quot;470b4e3e-e06d-4370-80dc-34d6a7…</td><td>2023-11-29 16:49:46 +03</td><td>0</td><td>154</td><td>45</td><td>13</td><td>1</td><td>0</td><td>0</td><td>695.647</td><td>0.0</td><td>0.0</td><td>0.0</td><td>61.538462</td><td>0.0</td><td>0.0</td><td>0.0</td><td>0.0</td><td>40.0</td><td>0.0</td><td>0.0</td><td>0.0</td><td>0.0</td><td>0.0</td><td>0.0</td><td>0</td><td>0</td><td>1.0</td><td>256.153846</td><td>178.888889</td><td>0.001438</td><td>0.368224</td><td>0.257155</td><td>9.310358</td><td>9.290497</td><td>0</td><td>8</td><td>18</td><td>1</td><td>&quot;SHACMAN. Шакман замена двухряд…</td><td>&quot;&quot;</td><td>&quot;Разное&quot;</td><td>&quot;841e6bd8-0015-4502-a3e9-aaa071…</td><td>4</td></tr><tr><td>&hellip;</td><td>&hellip;</td><td>&hellip;</td><td>&hellip;</td><td>&hellip;</td><td>&hellip;</td><td>&hellip;</td><td>&hellip;</td><td>&hellip;</td><td>&hellip;</td><td>&hellip;</td><td>&hellip;</td><td>&hellip;</td><td>&hellip;</td><td>&hellip;</td><td>&hellip;</td><td>&hellip;</td><td>&hellip;</td><td>&hellip;</td><td>&hellip;</td><td>&hellip;</td><td>&hellip;</td><td>&hellip;</td><td>&hellip;</td><td>&hellip;</td><td>&hellip;</td><td>&hellip;</td><td>&hellip;</td><td>&hellip;</td><td>&hellip;</td><td>&hellip;</td><td>&hellip;</td><td>&hellip;</td><td>&hellip;</td><td>&hellip;</td><td>&hellip;</td><td>&hellip;</td><td>&hellip;</td><td>&hellip;</td><td>&hellip;</td><td>&hellip;</td><td>&hellip;</td><td>&hellip;</td><td>&hellip;</td></tr><tr><td>&quot;6e3067be-8602-4889-b296-3dbba9…</td><td>2023-07-22 17:48:30 +03</td><td>0</td><td>705</td><td>39</td><td>23</td><td>7</td><td>0</td><td>0</td><td>92.996</td><td>0.0</td><td>0.0</td><td>0.0</td><td>21.73913</td><td>0.0</td><td>0.0</td><td>0.0</td><td>0.0</td><td>12.820513</td><td>0.0</td><td>0.0</td><td>0.0</td><td>0.0</td><td>0.0</td><td>0.0</td><td>0</td><td>0</td><td>14.428571</td><td>24.304348</td><td>15.923077</td><td>0.155153</td><td>0.261348</td><td>0.171223</td><td>10.705581</td><td>12.76262</td><td>0</td><td>5</td><td>5</td><td>1</td><td>&quot;Сергий против нечисти сериал /…</td><td>&quot;сергий против нечисти смотреть…</td><td>&quot;Сериалы&quot;</td><td>&quot;3d4ea198-d327-4e21-af62-3e93fc…</td><td>1936081</td></tr><tr><td>&quot;542bb668-c8ec-4047-80c6-d98b39…</td><td>2010-06-17 18:38:04 +03</td><td>0</td><td>109</td><td>2</td><td>0</td><td>0</td><td>0</td><td>0</td><td>65.28</td><td>0.0</td><td>0.0</td><td>0.0</td><td>0.0</td><td>0.0</td><td>0.0</td><td>0.0</td><td>0.0</td><td>100.0</td><td>0.0</td><td>0.0</td><td>0.0</td><td>0.0</td><td>0.0</td><td>0.0</td><td>0</td><td>0</td><td>0.0</td><td>0.0</td><td>61.0</td><td>0.0</td><td>0.0</td><td>0.934436</td><td>1.446613</td><td>1.454383</td><td>0</td><td>0</td><td>2</td><td>1</td><td>&quot;Greece 2-1 Nigeria&quot;</td><td>&quot;&quot;</td><td>&quot;Спорт&quot;</td><td>&quot;69573325-e993-43f4-accd-1ddb52…</td><td>1936082</td></tr><tr><td>&quot;eeeb7b1e-6e46-4633-a9fb-378225…</td><td>2022-11-06 09:24:55 +03</td><td>0</td><td>162</td><td>20</td><td>4</td><td>2</td><td>0</td><td>0</td><td>94.134</td><td>0.0</td><td>0.0</td><td>0.0</td><td>0.0</td><td>0.0</td><td>0.0</td><td>0.0</td><td>0.0</td><td>45.0</td><td>0.0</td><td>0.0</td><td>0.0</td><td>0.0</td><td>0.0</td><td>0.0</td><td>0</td><td>0</td><td>0.0</td><td>0.0</td><td>39.8</td><td>0.0</td><td>0.0</td><td>0.422802</td><td>8.950831</td><td>9.297989</td><td>0</td><td>0</td><td>9</td><td>1</td><td>&quot;Сказочный патруль когда выйдут…</td><td>&quot;&quot;</td><td>&quot;Лайфстайл&quot;</td><td>&quot;307f2310-337d-4065-990d-376352…</td><td>1936083</td></tr><tr><td>&quot;7ef043b7-a34c-40c7-865e-1b251b…</td><td>2023-11-17 01:35:34 +03</td><td>0</td><td>144</td><td>22</td><td>9</td><td>2</td><td>0</td><td>0</td><td>321.829</td><td>0.0</td><td>0.0</td><td>0.0</td><td>22.222222</td><td>0.0</td><td>0.0</td><td>0.0</td><td>0.0</td><td>36.363636</td><td>0.0</td><td>0.0</td><td>0.0</td><td>0.0</td><td>0.0</td><td>0.0</td><td>0</td><td>0</td><td>74.0</td><td>90.888889</td><td>96.227273</td><td>0.229936</td><td>0.282414</td><td>0.299001</td><td>5.489105</td><td>3.67974</td><td>0</td><td>2</td><td>8</td><td>1</td><td>&quot;Гайд на 120 фпс // Разблокиров…</td><td>&quot;#120fps #120fps_blitz 0:19 Пре…</td><td>&quot;Разное&quot;</td><td>&quot;f8daacc1-aa63-4721-94b8-153a69…</td><td>1936084</td></tr><tr><td>&quot;805bbf13-b667-4e7b-8db7-fbbb98…</td><td>2023-11-17 21:34:04 +03</td><td>0</td><td>2510</td><td>218</td><td>74</td><td>2</td><td>0</td><td>0</td><td>102.493</td><td>0.0</td><td>0.0</td><td>0.0</td><td>66.216216</td><td>0.0</td><td>0.0</td><td>0.0</td><td>0.0</td><td>70.183486</td><td>0.0</td><td>0.0</td><td>0.0</td><td>0.0</td><td>0.0</td><td>0.0</td><td>0</td><td>0</td><td>10.0</td><td>63.945946</td><td>76.321101</td><td>0.097568</td><td>0.623905</td><td>0.744647</td><td>1.311671</td><td>1.537056</td><td>0</td><td>49</td><td>153</td><td>1</td><td>&quot;Как намотать нитку на шпульку&quot;</td><td>&quot;В этом видео я покажу, как нам…</td><td>&quot;Разное&quot;</td><td>&quot;ef924263-719d-4817-8206-eff48b…</td><td>1936085</td></tr></tbody></table></div>"
      ],
      "text/plain": [
       "shape: (1_555_687, 44)\n",
       "┌───────────┬───────────┬───────────┬───────────┬───┬───────────┬───────────┬───────────┬──────────┐\n",
       "│ video_id  ┆ v_pub_dat ┆ v_total_c ┆ v_year_vi ┆ … ┆ descripti ┆ category_ ┆ author_id ┆ __index_ │\n",
       "│ ---       ┆ etime     ┆ omments   ┆ ews       ┆   ┆ on        ┆ id        ┆ ---       ┆ level_0_ │\n",
       "│ str       ┆ ---       ┆ ---       ┆ ---       ┆   ┆ ---       ┆ ---       ┆ str       ┆ _        │\n",
       "│           ┆ datetime[ ┆ u64       ┆ u64       ┆   ┆ str       ┆ str       ┆           ┆ ---      │\n",
       "│           ┆ ms, Etc/G ┆           ┆           ┆   ┆           ┆           ┆           ┆ i64      │\n",
       "│           ┆ MT-3]     ┆           ┆           ┆   ┆           ┆           ┆           ┆          │\n",
       "╞═══════════╪═══════════╪═══════════╪═══════════╪═══╪═══════════╪═══════════╪═══════════╪══════════╡\n",
       "│ 973f24c0- ┆ 2024-06-1 ┆ 0         ┆ 556       ┆ … ┆           ┆ Мультфиль ┆ 79276150- ┆ 0        │\n",
       "│ 15b2-434f ┆ 5         ┆           ┆           ┆   ┆           ┆ мы        ┆ fdaf-4626 ┆          │\n",
       "│ -8740-4e2 ┆ 22:58:03  ┆           ┆           ┆   ┆           ┆           ┆ -9452-6f1 ┆          │\n",
       "│ 726…      ┆ +03       ┆           ┆           ┆   ┆           ┆           ┆ ad9…      ┆          │\n",
       "│ 1a3f527c- ┆ 2021-04-1 ┆ 0         ┆ 109       ┆ … ┆ 🎓Знаете  ┆ Развлечен ┆ 16278647- ┆ 1        │\n",
       "│ 44b2-4f7e ┆ 8         ┆           ┆           ┆   ┆ ли Вы,    ┆ ия        ┆ 5912-48af ┆          │\n",
       "│ -9641-26f ┆ 17:27:42  ┆           ┆           ┆   ┆ что  ?    ┆           ┆ -a071-582 ┆          │\n",
       "│ 078…      ┆ +03       ┆           ┆           ┆   ┆ Интерес…  ┆           ┆ dcf…      ┆          │\n",
       "│ 2f563d09- ┆ 2022-11-1 ┆ 0         ┆ 163       ┆ … ┆ Шляпа     ┆ Хобби     ┆ 9afa94aa- ┆ 2        │\n",
       "│ 45ef-4e27 ┆ 7         ┆           ┆           ┆   ┆ связана   ┆           ┆ c2a6-43fc ┆          │\n",
       "│ -8da0-daa ┆ 16:36:43  ┆           ┆           ┆   ┆ из пряжи  ┆           ┆ -a0d1-175 ┆          │\n",
       "│ 742…      ┆ +03       ┆           ┆           ┆   ┆ NAKO Sp…  ┆           ┆ eaf…      ┆          │\n",
       "│ 154fac0e- ┆ 2010-01-0 ┆ 0         ┆ 10657     ┆ … ┆ найк      ┆ Животные  ┆ 4af9b043- ┆ 3        │\n",
       "│ 1794-4406 ┆ 1         ┆           ┆           ┆   ┆ дрессура  ┆           ┆ 40f4-4288 ┆          │\n",
       "│ -afa0-61f ┆ 00:00:01  ┆           ┆           ┆   ┆           ┆           ┆ -85c6-192 ┆          │\n",
       "│ 688…      ┆ +03       ┆           ┆           ┆   ┆           ┆           ┆ 612…      ┆          │\n",
       "│ 470b4e3e- ┆ 2023-11-2 ┆ 0         ┆ 154       ┆ … ┆           ┆ Разное    ┆ 841e6bd8- ┆ 4        │\n",
       "│ e06d-4370 ┆ 9         ┆           ┆           ┆   ┆           ┆           ┆ 0015-4502 ┆          │\n",
       "│ -80dc-34d ┆ 16:49:46  ┆           ┆           ┆   ┆           ┆           ┆ -a3e9-aaa ┆          │\n",
       "│ 6a7…      ┆ +03       ┆           ┆           ┆   ┆           ┆           ┆ 071…      ┆          │\n",
       "│ …         ┆ …         ┆ …         ┆ …         ┆ … ┆ …         ┆ …         ┆ …         ┆ …        │\n",
       "│ 6e3067be- ┆ 2023-07-2 ┆ 0         ┆ 705       ┆ … ┆ сергий    ┆ Сериалы   ┆ 3d4ea198- ┆ 1936081  │\n",
       "│ 8602-4889 ┆ 2         ┆           ┆           ┆   ┆ против    ┆           ┆ d327-4e21 ┆          │\n",
       "│ -b296-3db ┆ 17:48:30  ┆           ┆           ┆   ┆ нечисти   ┆           ┆ -af62-3e9 ┆          │\n",
       "│ ba9…      ┆ +03       ┆           ┆           ┆   ┆ смотреть… ┆           ┆ 3fc…      ┆          │\n",
       "│ 542bb668- ┆ 2010-06-1 ┆ 0         ┆ 109       ┆ … ┆           ┆ Спорт     ┆ 69573325- ┆ 1936082  │\n",
       "│ c8ec-4047 ┆ 7         ┆           ┆           ┆   ┆           ┆           ┆ e993-43f4 ┆          │\n",
       "│ -80c6-d98 ┆ 18:38:04  ┆           ┆           ┆   ┆           ┆           ┆ -accd-1dd ┆          │\n",
       "│ b39…      ┆ +03       ┆           ┆           ┆   ┆           ┆           ┆ b52…      ┆          │\n",
       "│ eeeb7b1e- ┆ 2022-11-0 ┆ 0         ┆ 162       ┆ … ┆           ┆ Лайфстайл ┆ 307f2310- ┆ 1936083  │\n",
       "│ 6e46-4633 ┆ 6         ┆           ┆           ┆   ┆           ┆           ┆ 337d-4065 ┆          │\n",
       "│ -a9fb-378 ┆ 09:24:55  ┆           ┆           ┆   ┆           ┆           ┆ -990d-376 ┆          │\n",
       "│ 225…      ┆ +03       ┆           ┆           ┆   ┆           ┆           ┆ 352…      ┆          │\n",
       "│ 7ef043b7- ┆ 2023-11-1 ┆ 0         ┆ 144       ┆ … ┆ #120fps   ┆ Разное    ┆ f8daacc1- ┆ 1936084  │\n",
       "│ a34c-40c7 ┆ 7         ┆           ┆           ┆   ┆ #120fps_b ┆           ┆ aa63-4721 ┆          │\n",
       "│ -865e-1b2 ┆ 01:35:34  ┆           ┆           ┆   ┆ litz 0:19 ┆           ┆ -94b8-153 ┆          │\n",
       "│ 51b…      ┆ +03       ┆           ┆           ┆   ┆ Пре…      ┆           ┆ a69…      ┆          │\n",
       "│ 805bbf13- ┆ 2023-11-1 ┆ 0         ┆ 2510      ┆ … ┆ В этом    ┆ Разное    ┆ ef924263- ┆ 1936085  │\n",
       "│ b667-4e7b ┆ 7         ┆           ┆           ┆   ┆ видео я   ┆           ┆ 719d-4817 ┆          │\n",
       "│ -8db7-fbb ┆ 21:34:04  ┆           ┆           ┆   ┆ покажу,   ┆           ┆ -8206-eff ┆          │\n",
       "│ b98…      ┆ +03       ┆           ┆           ┆   ┆ как нам…  ┆           ┆ 48b…      ┆          │\n",
       "└───────────┴───────────┴───────────┴───────────┴───┴───────────┴───────────┴───────────┴──────────┘"
      ]
     },
     "execution_count": 1,
     "metadata": {},
     "output_type": "execute_result"
    }
   ],
   "source": [
    "import polars as pl\n",
    "video_stat = pl.read_parquet(\"video_stat.parquet\")\n",
    "video_stat"
   ]
  },
  {
   "cell_type": "code",
   "execution_count": 108,
   "id": "aceef651-eb73-48bb-b0d3-7dd68f57a578",
   "metadata": {},
   "outputs": [],
   "source": [
    "cats = {tupa[0]: 0 for tupa in video_stat.select(pl.col(\"category_id\")).unique().rows()}"
   ]
  },
  {
   "cell_type": "code",
   "execution_count": 109,
   "id": "02e189c8-8e40-47c1-bd94-dd1c2f66941b",
   "metadata": {},
   "outputs": [],
   "source": [
    "for some in video_stat.select(pl.col(\"category_id\"), pl.col(\"video_id\")).rows(named=True):\n",
    "    cats[some[\"category_id\"]] += 1"
   ]
  },
  {
   "cell_type": "code",
   "execution_count": 110,
   "id": "260b38e8-fd61-42ed-8dfd-29a56c290e50",
   "metadata": {},
   "outputs": [
    {
     "data": {
      "text/plain": [
       "{'Технологии и интернет': 19056,\n",
       " 'Дизайн': 2708,\n",
       " 'Лайфстайл': 50436,\n",
       " 'Разное': 479295,\n",
       " 'Охота и рыбалка': 6450,\n",
       " 'Обучение': 48440,\n",
       " 'Техника и оборудование': 21319,\n",
       " 'Хобби': 19881,\n",
       " 'Юмор': 38267,\n",
       " 'UNKNOWN': 10324,\n",
       " 'Природа': 4400,\n",
       " 'Мультфильмы': 28811,\n",
       " 'Здоровье': 12705,\n",
       " 'Лайфхаки': 12130,\n",
       " 'Аудиокниги': 6928,\n",
       " 'Видеоигры': 86695,\n",
       " 'Аудио': 2911,\n",
       " 'Недвижимость': 2978,\n",
       " 'Животные': 12075,\n",
       " 'Наука': 6185,\n",
       " 'Фильмы': 60323,\n",
       " 'Авто-мото': 40322,\n",
       " 'Культура': 11878,\n",
       " 'Бизнес и предпринимательство': 7371,\n",
       " 'Психология': 6251,\n",
       " 'Эзотерика': 14342,\n",
       " 'Аниме': 10588,\n",
       " 'Детям': 48468,\n",
       " 'Музыка': 77682,\n",
       " 'Строительство и ремонт': 10938,\n",
       " 'Телепередачи': 94876,\n",
       " 'Развлечения': 77179,\n",
       " 'Интервью': 21221,\n",
       " 'Обзоры и распаковки товаров': 11455,\n",
       " 'Красота': 8099,\n",
       " 'Сад и огород': 8915,\n",
       " 'Спорт': 28687,\n",
       " 'Еда': 32254,\n",
       " 'Сериалы': 96044,\n",
       " 'Путешествия': 16800}"
      ]
     },
     "execution_count": 110,
     "metadata": {},
     "output_type": "execute_result"
    }
   ],
   "source": [
    "cats"
   ]
  },
  {
   "cell_type": "code",
   "execution_count": 119,
   "id": "3500cac7-e60e-49d9-b90d-430e5efcd0ba",
   "metadata": {},
   "outputs": [
    {
     "data": {
      "text/html": [
       "        <script type=\"text/javascript\">\n",
       "        window.PlotlyConfig = {MathJaxConfig: 'local'};\n",
       "        if (window.MathJax && window.MathJax.Hub && window.MathJax.Hub.Config) {window.MathJax.Hub.Config({SVG: {font: \"STIX-Web\"}});}\n",
       "        if (typeof require !== 'undefined') {\n",
       "        require.undef(\"plotly\");\n",
       "        requirejs.config({\n",
       "            paths: {\n",
       "                'plotly': ['https://cdn.plot.ly/plotly-2.35.2.min']\n",
       "            }\n",
       "        });\n",
       "        require(['plotly'], function(Plotly) {\n",
       "            window._Plotly = Plotly;\n",
       "        });\n",
       "        }\n",
       "        </script>\n",
       "        "
      ]
     },
     "metadata": {},
     "output_type": "display_data"
    },
    {
     "data": {
      "application/vnd.plotly.v1+json": {
       "config": {
        "linkText": "Export to plot.ly",
        "plotlyServerURL": "https://plot.ly",
        "showLink": false
       },
       "data": [
        {
         "type": "scatter",
         "x": [
          19056,
          2708,
          50436,
          479295,
          6450,
          48440,
          21319,
          19881,
          38267,
          10324
         ]
        }
       ],
       "layout": {
        "autosize": true,
        "template": {
         "data": {
          "bar": [
           {
            "error_x": {
             "color": "#2a3f5f"
            },
            "error_y": {
             "color": "#2a3f5f"
            },
            "marker": {
             "line": {
              "color": "#E5ECF6",
              "width": 0.5
             },
             "pattern": {
              "fillmode": "overlay",
              "size": 10,
              "solidity": 0.2
             }
            },
            "type": "bar"
           }
          ],
          "barpolar": [
           {
            "marker": {
             "line": {
              "color": "#E5ECF6",
              "width": 0.5
             },
             "pattern": {
              "fillmode": "overlay",
              "size": 10,
              "solidity": 0.2
             }
            },
            "type": "barpolar"
           }
          ],
          "carpet": [
           {
            "aaxis": {
             "endlinecolor": "#2a3f5f",
             "gridcolor": "white",
             "linecolor": "white",
             "minorgridcolor": "white",
             "startlinecolor": "#2a3f5f"
            },
            "baxis": {
             "endlinecolor": "#2a3f5f",
             "gridcolor": "white",
             "linecolor": "white",
             "minorgridcolor": "white",
             "startlinecolor": "#2a3f5f"
            },
            "type": "carpet"
           }
          ],
          "choropleth": [
           {
            "colorbar": {
             "outlinewidth": 0,
             "ticks": ""
            },
            "type": "choropleth"
           }
          ],
          "contour": [
           {
            "colorbar": {
             "outlinewidth": 0,
             "ticks": ""
            },
            "colorscale": [
             [
              0,
              "#0d0887"
             ],
             [
              0.1111111111111111,
              "#46039f"
             ],
             [
              0.2222222222222222,
              "#7201a8"
             ],
             [
              0.3333333333333333,
              "#9c179e"
             ],
             [
              0.4444444444444444,
              "#bd3786"
             ],
             [
              0.5555555555555556,
              "#d8576b"
             ],
             [
              0.6666666666666666,
              "#ed7953"
             ],
             [
              0.7777777777777778,
              "#fb9f3a"
             ],
             [
              0.8888888888888888,
              "#fdca26"
             ],
             [
              1,
              "#f0f921"
             ]
            ],
            "type": "contour"
           }
          ],
          "contourcarpet": [
           {
            "colorbar": {
             "outlinewidth": 0,
             "ticks": ""
            },
            "type": "contourcarpet"
           }
          ],
          "heatmap": [
           {
            "colorbar": {
             "outlinewidth": 0,
             "ticks": ""
            },
            "colorscale": [
             [
              0,
              "#0d0887"
             ],
             [
              0.1111111111111111,
              "#46039f"
             ],
             [
              0.2222222222222222,
              "#7201a8"
             ],
             [
              0.3333333333333333,
              "#9c179e"
             ],
             [
              0.4444444444444444,
              "#bd3786"
             ],
             [
              0.5555555555555556,
              "#d8576b"
             ],
             [
              0.6666666666666666,
              "#ed7953"
             ],
             [
              0.7777777777777778,
              "#fb9f3a"
             ],
             [
              0.8888888888888888,
              "#fdca26"
             ],
             [
              1,
              "#f0f921"
             ]
            ],
            "type": "heatmap"
           }
          ],
          "heatmapgl": [
           {
            "colorbar": {
             "outlinewidth": 0,
             "ticks": ""
            },
            "colorscale": [
             [
              0,
              "#0d0887"
             ],
             [
              0.1111111111111111,
              "#46039f"
             ],
             [
              0.2222222222222222,
              "#7201a8"
             ],
             [
              0.3333333333333333,
              "#9c179e"
             ],
             [
              0.4444444444444444,
              "#bd3786"
             ],
             [
              0.5555555555555556,
              "#d8576b"
             ],
             [
              0.6666666666666666,
              "#ed7953"
             ],
             [
              0.7777777777777778,
              "#fb9f3a"
             ],
             [
              0.8888888888888888,
              "#fdca26"
             ],
             [
              1,
              "#f0f921"
             ]
            ],
            "type": "heatmapgl"
           }
          ],
          "histogram": [
           {
            "marker": {
             "pattern": {
              "fillmode": "overlay",
              "size": 10,
              "solidity": 0.2
             }
            },
            "type": "histogram"
           }
          ],
          "histogram2d": [
           {
            "colorbar": {
             "outlinewidth": 0,
             "ticks": ""
            },
            "colorscale": [
             [
              0,
              "#0d0887"
             ],
             [
              0.1111111111111111,
              "#46039f"
             ],
             [
              0.2222222222222222,
              "#7201a8"
             ],
             [
              0.3333333333333333,
              "#9c179e"
             ],
             [
              0.4444444444444444,
              "#bd3786"
             ],
             [
              0.5555555555555556,
              "#d8576b"
             ],
             [
              0.6666666666666666,
              "#ed7953"
             ],
             [
              0.7777777777777778,
              "#fb9f3a"
             ],
             [
              0.8888888888888888,
              "#fdca26"
             ],
             [
              1,
              "#f0f921"
             ]
            ],
            "type": "histogram2d"
           }
          ],
          "histogram2dcontour": [
           {
            "colorbar": {
             "outlinewidth": 0,
             "ticks": ""
            },
            "colorscale": [
             [
              0,
              "#0d0887"
             ],
             [
              0.1111111111111111,
              "#46039f"
             ],
             [
              0.2222222222222222,
              "#7201a8"
             ],
             [
              0.3333333333333333,
              "#9c179e"
             ],
             [
              0.4444444444444444,
              "#bd3786"
             ],
             [
              0.5555555555555556,
              "#d8576b"
             ],
             [
              0.6666666666666666,
              "#ed7953"
             ],
             [
              0.7777777777777778,
              "#fb9f3a"
             ],
             [
              0.8888888888888888,
              "#fdca26"
             ],
             [
              1,
              "#f0f921"
             ]
            ],
            "type": "histogram2dcontour"
           }
          ],
          "mesh3d": [
           {
            "colorbar": {
             "outlinewidth": 0,
             "ticks": ""
            },
            "type": "mesh3d"
           }
          ],
          "parcoords": [
           {
            "line": {
             "colorbar": {
              "outlinewidth": 0,
              "ticks": ""
             }
            },
            "type": "parcoords"
           }
          ],
          "pie": [
           {
            "automargin": true,
            "type": "pie"
           }
          ],
          "scatter": [
           {
            "fillpattern": {
             "fillmode": "overlay",
             "size": 10,
             "solidity": 0.2
            },
            "type": "scatter"
           }
          ],
          "scatter3d": [
           {
            "line": {
             "colorbar": {
              "outlinewidth": 0,
              "ticks": ""
             }
            },
            "marker": {
             "colorbar": {
              "outlinewidth": 0,
              "ticks": ""
             }
            },
            "type": "scatter3d"
           }
          ],
          "scattercarpet": [
           {
            "marker": {
             "colorbar": {
              "outlinewidth": 0,
              "ticks": ""
             }
            },
            "type": "scattercarpet"
           }
          ],
          "scattergeo": [
           {
            "marker": {
             "colorbar": {
              "outlinewidth": 0,
              "ticks": ""
             }
            },
            "type": "scattergeo"
           }
          ],
          "scattergl": [
           {
            "marker": {
             "colorbar": {
              "outlinewidth": 0,
              "ticks": ""
             }
            },
            "type": "scattergl"
           }
          ],
          "scattermapbox": [
           {
            "marker": {
             "colorbar": {
              "outlinewidth": 0,
              "ticks": ""
             }
            },
            "type": "scattermapbox"
           }
          ],
          "scatterpolar": [
           {
            "marker": {
             "colorbar": {
              "outlinewidth": 0,
              "ticks": ""
             }
            },
            "type": "scatterpolar"
           }
          ],
          "scatterpolargl": [
           {
            "marker": {
             "colorbar": {
              "outlinewidth": 0,
              "ticks": ""
             }
            },
            "type": "scatterpolargl"
           }
          ],
          "scatterternary": [
           {
            "marker": {
             "colorbar": {
              "outlinewidth": 0,
              "ticks": ""
             }
            },
            "type": "scatterternary"
           }
          ],
          "surface": [
           {
            "colorbar": {
             "outlinewidth": 0,
             "ticks": ""
            },
            "colorscale": [
             [
              0,
              "#0d0887"
             ],
             [
              0.1111111111111111,
              "#46039f"
             ],
             [
              0.2222222222222222,
              "#7201a8"
             ],
             [
              0.3333333333333333,
              "#9c179e"
             ],
             [
              0.4444444444444444,
              "#bd3786"
             ],
             [
              0.5555555555555556,
              "#d8576b"
             ],
             [
              0.6666666666666666,
              "#ed7953"
             ],
             [
              0.7777777777777778,
              "#fb9f3a"
             ],
             [
              0.8888888888888888,
              "#fdca26"
             ],
             [
              1,
              "#f0f921"
             ]
            ],
            "type": "surface"
           }
          ],
          "table": [
           {
            "cells": {
             "fill": {
              "color": "#EBF0F8"
             },
             "line": {
              "color": "white"
             }
            },
            "header": {
             "fill": {
              "color": "#C8D4E3"
             },
             "line": {
              "color": "white"
             }
            },
            "type": "table"
           }
          ]
         },
         "layout": {
          "annotationdefaults": {
           "arrowcolor": "#2a3f5f",
           "arrowhead": 0,
           "arrowwidth": 1
          },
          "autotypenumbers": "strict",
          "coloraxis": {
           "colorbar": {
            "outlinewidth": 0,
            "ticks": ""
           }
          },
          "colorscale": {
           "diverging": [
            [
             0,
             "#8e0152"
            ],
            [
             0.1,
             "#c51b7d"
            ],
            [
             0.2,
             "#de77ae"
            ],
            [
             0.3,
             "#f1b6da"
            ],
            [
             0.4,
             "#fde0ef"
            ],
            [
             0.5,
             "#f7f7f7"
            ],
            [
             0.6,
             "#e6f5d0"
            ],
            [
             0.7,
             "#b8e186"
            ],
            [
             0.8,
             "#7fbc41"
            ],
            [
             0.9,
             "#4d9221"
            ],
            [
             1,
             "#276419"
            ]
           ],
           "sequential": [
            [
             0,
             "#0d0887"
            ],
            [
             0.1111111111111111,
             "#46039f"
            ],
            [
             0.2222222222222222,
             "#7201a8"
            ],
            [
             0.3333333333333333,
             "#9c179e"
            ],
            [
             0.4444444444444444,
             "#bd3786"
            ],
            [
             0.5555555555555556,
             "#d8576b"
            ],
            [
             0.6666666666666666,
             "#ed7953"
            ],
            [
             0.7777777777777778,
             "#fb9f3a"
            ],
            [
             0.8888888888888888,
             "#fdca26"
            ],
            [
             1,
             "#f0f921"
            ]
           ],
           "sequentialminus": [
            [
             0,
             "#0d0887"
            ],
            [
             0.1111111111111111,
             "#46039f"
            ],
            [
             0.2222222222222222,
             "#7201a8"
            ],
            [
             0.3333333333333333,
             "#9c179e"
            ],
            [
             0.4444444444444444,
             "#bd3786"
            ],
            [
             0.5555555555555556,
             "#d8576b"
            ],
            [
             0.6666666666666666,
             "#ed7953"
            ],
            [
             0.7777777777777778,
             "#fb9f3a"
            ],
            [
             0.8888888888888888,
             "#fdca26"
            ],
            [
             1,
             "#f0f921"
            ]
           ]
          },
          "colorway": [
           "#636efa",
           "#EF553B",
           "#00cc96",
           "#ab63fa",
           "#FFA15A",
           "#19d3f3",
           "#FF6692",
           "#B6E880",
           "#FF97FF",
           "#FECB52"
          ],
          "font": {
           "color": "#2a3f5f"
          },
          "geo": {
           "bgcolor": "white",
           "lakecolor": "white",
           "landcolor": "#E5ECF6",
           "showlakes": true,
           "showland": true,
           "subunitcolor": "white"
          },
          "hoverlabel": {
           "align": "left"
          },
          "hovermode": "closest",
          "mapbox": {
           "style": "light"
          },
          "paper_bgcolor": "white",
          "plot_bgcolor": "#E5ECF6",
          "polar": {
           "angularaxis": {
            "gridcolor": "white",
            "linecolor": "white",
            "ticks": ""
           },
           "bgcolor": "#E5ECF6",
           "radialaxis": {
            "gridcolor": "white",
            "linecolor": "white",
            "ticks": ""
           }
          },
          "scene": {
           "xaxis": {
            "backgroundcolor": "#E5ECF6",
            "gridcolor": "white",
            "gridwidth": 2,
            "linecolor": "white",
            "showbackground": true,
            "ticks": "",
            "zerolinecolor": "white"
           },
           "yaxis": {
            "backgroundcolor": "#E5ECF6",
            "gridcolor": "white",
            "gridwidth": 2,
            "linecolor": "white",
            "showbackground": true,
            "ticks": "",
            "zerolinecolor": "white"
           },
           "zaxis": {
            "backgroundcolor": "#E5ECF6",
            "gridcolor": "white",
            "gridwidth": 2,
            "linecolor": "white",
            "showbackground": true,
            "ticks": "",
            "zerolinecolor": "white"
           }
          },
          "shapedefaults": {
           "line": {
            "color": "#2a3f5f"
           }
          },
          "ternary": {
           "aaxis": {
            "gridcolor": "white",
            "linecolor": "white",
            "ticks": ""
           },
           "baxis": {
            "gridcolor": "white",
            "linecolor": "white",
            "ticks": ""
           },
           "bgcolor": "#E5ECF6",
           "caxis": {
            "gridcolor": "white",
            "linecolor": "white",
            "ticks": ""
           }
          },
          "title": {
           "x": 0.05
          },
          "xaxis": {
           "automargin": true,
           "gridcolor": "white",
           "linecolor": "white",
           "ticks": "",
           "title": {
            "standoff": 15
           },
           "zerolinecolor": "white",
           "zerolinewidth": 2
          },
          "yaxis": {
           "automargin": true,
           "gridcolor": "white",
           "linecolor": "white",
           "ticks": "",
           "title": {
            "standoff": 15
           },
           "zerolinecolor": "white",
           "zerolinewidth": 2
          }
         }
        },
        "xaxis": {
         "autorange": true,
         "range": [
          -26127.183054269095,
          508130.1830542691
         ],
         "type": "linear"
        },
        "yaxis": {
         "autorange": true,
         "range": [
          -0.7427184466019418,
          9.742718446601941
         ]
        }
       }
      },
      "image/png": "[encoded data removed]",
      "text/html": [
       "<div>                            <div id=\"7db2fd1e-b52b-4004-8b64-e49fd9cf644b\" class=\"plotly-graph-div\" style=\"height:525px; width:100%;\"></div>            <script type=\"text/javascript\">                require([\"plotly\"], function(Plotly) {                    window.PLOTLYENV=window.PLOTLYENV || {};                                    if (document.getElementById(\"7db2fd1e-b52b-4004-8b64-e49fd9cf644b\")) {                    Plotly.newPlot(                        \"7db2fd1e-b52b-4004-8b64-e49fd9cf644b\",                        [{\"x\":[19056,2708,50436,479295,6450,48440,21319,19881,38267,10324],\"type\":\"scatter\"}],                        {\"template\":{\"data\":{\"barpolar\":[{\"marker\":{\"line\":{\"color\":\"#E5ECF6\",\"width\":0.5},\"pattern\":{\"fillmode\":\"overlay\",\"size\":10,\"solidity\":0.2}},\"type\":\"barpolar\"}],\"bar\":[{\"error_x\":{\"color\":\"#2a3f5f\"},\"error_y\":{\"color\":\"#2a3f5f\"},\"marker\":{\"line\":{\"color\":\"#E5ECF6\",\"width\":0.5},\"pattern\":{\"fillmode\":\"overlay\",\"size\":10,\"solidity\":0.2}},\"type\":\"bar\"}],\"carpet\":[{\"aaxis\":{\"endlinecolor\":\"#2a3f5f\",\"gridcolor\":\"white\",\"linecolor\":\"white\",\"minorgridcolor\":\"white\",\"startlinecolor\":\"#2a3f5f\"},\"baxis\":{\"endlinecolor\":\"#2a3f5f\",\"gridcolor\":\"white\",\"linecolor\":\"white\",\"minorgridcolor\":\"white\",\"startlinecolor\":\"#2a3f5f\"},\"type\":\"carpet\"}],\"choropleth\":[{\"colorbar\":{\"outlinewidth\":0,\"ticks\":\"\"},\"type\":\"choropleth\"}],\"contourcarpet\":[{\"colorbar\":{\"outlinewidth\":0,\"ticks\":\"\"},\"type\":\"contourcarpet\"}],\"contour\":[{\"colorbar\":{\"outlinewidth\":0,\"ticks\":\"\"},\"colorscale\":[[0.0,\"#0d0887\"],[0.1111111111111111,\"#46039f\"],[0.2222222222222222,\"#7201a8\"],[0.3333333333333333,\"#9c179e\"],[0.4444444444444444,\"#bd3786\"],[0.5555555555555556,\"#d8576b\"],[0.6666666666666666,\"#ed7953\"],[0.7777777777777778,\"#fb9f3a\"],[0.8888888888888888,\"#fdca26\"],[1.0,\"#f0f921\"]],\"type\":\"contour\"}],\"heatmapgl\":[{\"colorbar\":{\"outlinewidth\":0,\"ticks\":\"\"},\"colorscale\":[[0.0,\"#0d0887\"],[0.1111111111111111,\"#46039f\"],[0.2222222222222222,\"#7201a8\"],[0.3333333333333333,\"#9c179e\"],[0.4444444444444444,\"#bd3786\"],[0.5555555555555556,\"#d8576b\"],[0.6666666666666666,\"#ed7953\"],[0.7777777777777778,\"#fb9f3a\"],[0.8888888888888888,\"#fdca26\"],[1.0,\"#f0f921\"]],\"type\":\"heatmapgl\"}],\"heatmap\":[{\"colorbar\":{\"outlinewidth\":0,\"ticks\":\"\"},\"colorscale\":[[0.0,\"#0d0887\"],[0.1111111111111111,\"#46039f\"],[0.2222222222222222,\"#7201a8\"],[0.3333333333333333,\"#9c179e\"],[0.4444444444444444,\"#bd3786\"],[0.5555555555555556,\"#d8576b\"],[0.6666666666666666,\"#ed7953\"],[0.7777777777777778,\"#fb9f3a\"],[0.8888888888888888,\"#fdca26\"],[1.0,\"#f0f921\"]],\"type\":\"heatmap\"}],\"histogram2dcontour\":[{\"colorbar\":{\"outlinewidth\":0,\"ticks\":\"\"},\"colorscale\":[[0.0,\"#0d0887\"],[0.1111111111111111,\"#46039f\"],[0.2222222222222222,\"#7201a8\"],[0.3333333333333333,\"#9c179e\"],[0.4444444444444444,\"#bd3786\"],[0.5555555555555556,\"#d8576b\"],[0.6666666666666666,\"#ed7953\"],[0.7777777777777778,\"#fb9f3a\"],[0.8888888888888888,\"#fdca26\"],[1.0,\"#f0f921\"]],\"type\":\"histogram2dcontour\"}],\"histogram2d\":[{\"colorbar\":{\"outlinewidth\":0,\"ticks\":\"\"},\"colorscale\":[[0.0,\"#0d0887\"],[0.1111111111111111,\"#46039f\"],[0.2222222222222222,\"#7201a8\"],[0.3333333333333333,\"#9c179e\"],[0.4444444444444444,\"#bd3786\"],[0.5555555555555556,\"#d8576b\"],[0.6666666666666666,\"#ed7953\"],[0.7777777777777778,\"#fb9f3a\"],[0.8888888888888888,\"#fdca26\"],[1.0,\"#f0f921\"]],\"type\":\"histogram2d\"}],\"histogram\":[{\"marker\":{\"pattern\":{\"fillmode\":\"overlay\",\"size\":10,\"solidity\":0.2}},\"type\":\"histogram\"}],\"mesh3d\":[{\"colorbar\":{\"outlinewidth\":0,\"ticks\":\"\"},\"type\":\"mesh3d\"}],\"parcoords\":[{\"line\":{\"colorbar\":{\"outlinewidth\":0,\"ticks\":\"\"}},\"type\":\"parcoords\"}],\"pie\":[{\"automargin\":true,\"type\":\"pie\"}],\"scatter3d\":[{\"line\":{\"colorbar\":{\"outlinewidth\":0,\"ticks\":\"\"}},\"marker\":{\"colorbar\":{\"outlinewidth\":0,\"ticks\":\"\"}},\"type\":\"scatter3d\"}],\"scattercarpet\":[{\"marker\":{\"colorbar\":{\"outlinewidth\":0,\"ticks\":\"\"}},\"type\":\"scattercarpet\"}],\"scattergeo\":[{\"marker\":{\"colorbar\":{\"outlinewidth\":0,\"ticks\":\"\"}},\"type\":\"scattergeo\"}],\"scattergl\":[{\"marker\":{\"colorbar\":{\"outlinewidth\":0,\"ticks\":\"\"}},\"type\":\"scattergl\"}],\"scattermapbox\":[{\"marker\":{\"colorbar\":{\"outlinewidth\":0,\"ticks\":\"\"}},\"type\":\"scattermapbox\"}],\"scatterpolargl\":[{\"marker\":{\"colorbar\":{\"outlinewidth\":0,\"ticks\":\"\"}},\"type\":\"scatterpolargl\"}],\"scatterpolar\":[{\"marker\":{\"colorbar\":{\"outlinewidth\":0,\"ticks\":\"\"}},\"type\":\"scatterpolar\"}],\"scatter\":[{\"fillpattern\":{\"fillmode\":\"overlay\",\"size\":10,\"solidity\":0.2},\"type\":\"scatter\"}],\"scatterternary\":[{\"marker\":{\"colorbar\":{\"outlinewidth\":0,\"ticks\":\"\"}},\"type\":\"scatterternary\"}],\"surface\":[{\"colorbar\":{\"outlinewidth\":0,\"ticks\":\"\"},\"colorscale\":[[0.0,\"#0d0887\"],[0.1111111111111111,\"#46039f\"],[0.2222222222222222,\"#7201a8\"],[0.3333333333333333,\"#9c179e\"],[0.4444444444444444,\"#bd3786\"],[0.5555555555555556,\"#d8576b\"],[0.6666666666666666,\"#ed7953\"],[0.7777777777777778,\"#fb9f3a\"],[0.8888888888888888,\"#fdca26\"],[1.0,\"#f0f921\"]],\"type\":\"surface\"}],\"table\":[{\"cells\":{\"fill\":{\"color\":\"#EBF0F8\"},\"line\":{\"color\":\"white\"}},\"header\":{\"fill\":{\"color\":\"#C8D4E3\"},\"line\":{\"color\":\"white\"}},\"type\":\"table\"}]},\"layout\":{\"annotationdefaults\":{\"arrowcolor\":\"#2a3f5f\",\"arrowhead\":0,\"arrowwidth\":1},\"autotypenumbers\":\"strict\",\"coloraxis\":{\"colorbar\":{\"outlinewidth\":0,\"ticks\":\"\"}},\"colorscale\":{\"diverging\":[[0,\"#8e0152\"],[0.1,\"#c51b7d\"],[0.2,\"#de77ae\"],[0.3,\"#f1b6da\"],[0.4,\"#fde0ef\"],[0.5,\"#f7f7f7\"],[0.6,\"#e6f5d0\"],[0.7,\"#b8e186\"],[0.8,\"#7fbc41\"],[0.9,\"#4d9221\"],[1,\"#276419\"]],\"sequential\":[[0.0,\"#0d0887\"],[0.1111111111111111,\"#46039f\"],[0.2222222222222222,\"#7201a8\"],[0.3333333333333333,\"#9c179e\"],[0.4444444444444444,\"#bd3786\"],[0.5555555555555556,\"#d8576b\"],[0.6666666666666666,\"#ed7953\"],[0.7777777777777778,\"#fb9f3a\"],[0.8888888888888888,\"#fdca26\"],[1.0,\"#f0f921\"]],\"sequentialminus\":[[0.0,\"#0d0887\"],[0.1111111111111111,\"#46039f\"],[0.2222222222222222,\"#7201a8\"],[0.3333333333333333,\"#9c179e\"],[0.4444444444444444,\"#bd3786\"],[0.5555555555555556,\"#d8576b\"],[0.6666666666666666,\"#ed7953\"],[0.7777777777777778,\"#fb9f3a\"],[0.8888888888888888,\"#fdca26\"],[1.0,\"#f0f921\"]]},\"colorway\":[\"#636efa\",\"#EF553B\",\"#00cc96\",\"#ab63fa\",\"#FFA15A\",\"#19d3f3\",\"#FF6692\",\"#B6E880\",\"#FF97FF\",\"#FECB52\"],\"font\":{\"color\":\"#2a3f5f\"},\"geo\":{\"bgcolor\":\"white\",\"lakecolor\":\"white\",\"landcolor\":\"#E5ECF6\",\"showlakes\":true,\"showland\":true,\"subunitcolor\":\"white\"},\"hoverlabel\":{\"align\":\"left\"},\"hovermode\":\"closest\",\"mapbox\":{\"style\":\"light\"},\"paper_bgcolor\":\"white\",\"plot_bgcolor\":\"#E5ECF6\",\"polar\":{\"angularaxis\":{\"gridcolor\":\"white\",\"linecolor\":\"white\",\"ticks\":\"\"},\"bgcolor\":\"#E5ECF6\",\"radialaxis\":{\"gridcolor\":\"white\",\"linecolor\":\"white\",\"ticks\":\"\"}},\"scene\":{\"xaxis\":{\"backgroundcolor\":\"#E5ECF6\",\"gridcolor\":\"white\",\"gridwidth\":2,\"linecolor\":\"white\",\"showbackground\":true,\"ticks\":\"\",\"zerolinecolor\":\"white\"},\"yaxis\":{\"backgroundcolor\":\"#E5ECF6\",\"gridcolor\":\"white\",\"gridwidth\":2,\"linecolor\":\"white\",\"showbackground\":true,\"ticks\":\"\",\"zerolinecolor\":\"white\"},\"zaxis\":{\"backgroundcolor\":\"#E5ECF6\",\"gridcolor\":\"white\",\"gridwidth\":2,\"linecolor\":\"white\",\"showbackground\":true,\"ticks\":\"\",\"zerolinecolor\":\"white\"}},\"shapedefaults\":{\"line\":{\"color\":\"#2a3f5f\"}},\"ternary\":{\"aaxis\":{\"gridcolor\":\"white\",\"linecolor\":\"white\",\"ticks\":\"\"},\"baxis\":{\"gridcolor\":\"white\",\"linecolor\":\"white\",\"ticks\":\"\"},\"bgcolor\":\"#E5ECF6\",\"caxis\":{\"gridcolor\":\"white\",\"linecolor\":\"white\",\"ticks\":\"\"}},\"title\":{\"x\":0.05},\"xaxis\":{\"automargin\":true,\"gridcolor\":\"white\",\"linecolor\":\"white\",\"ticks\":\"\",\"title\":{\"standoff\":15},\"zerolinecolor\":\"white\",\"zerolinewidth\":2},\"yaxis\":{\"automargin\":true,\"gridcolor\":\"white\",\"linecolor\":\"white\",\"ticks\":\"\",\"title\":{\"standoff\":15},\"zerolinecolor\":\"white\",\"zerolinewidth\":2}}}},                        {\"responsive\": true}                    ).then(function(){\n",
       "                            \n",
       "var gd = document.getElementById('7db2fd1e-b52b-4004-8b64-e49fd9cf644b');\n",
       "var x = new MutationObserver(function (mutations, observer) {{\n",
       "        var display = window.getComputedStyle(gd).display;\n",
       "        if (!display || display === 'none') {{\n",
       "            console.log([gd, 'removed!']);\n",
       "            Plotly.purge(gd);\n",
       "            observer.disconnect();\n",
       "        }}\n",
       "}});\n",
       "\n",
       "// Listen for the removal of the full notebook cells\n",
       "var notebookContainer = gd.closest('#notebook-container');\n",
       "if (notebookContainer) {{\n",
       "    x.observe(notebookContainer, {childList: true});\n",
       "}}\n",
       "\n",
       "// Listen for the clearing of the current output cell\n",
       "var outputEl = gd.closest('.output');\n",
       "if (outputEl) {{\n",
       "    x.observe(outputEl, {childList: true});\n",
       "}}\n",
       "\n",
       "                        })                };                });            </script>        </div>"
      ]
     },
     "metadata": {},
     "output_type": "display_data"
    }
   ],
   "source": [
    "from plotly.offline import init_notebook_mode, iplot\n",
    "from plotly.graph_objs import *\n",
    "\n",
    "init_notebook_mode(connected=True)\n",
    "\n",
    "trace0 = Scatter(\n",
    "  x=[cats[key] for key in list(cats.keys())[:10]],\n",
    ")\n",
    "\n",
    "iplot([trace0])   "
   ]
  },
  {
   "cell_type": "code",
   "execution_count": 2,
   "id": "b231b9c1-5d81-4bb2-85b1-cf6e8ef25e07",
   "metadata": {},
   "outputs": [
    {
     "data": {
      "text/html": [
       "<div><style>\n",
       ".dataframe > thead > tr,\n",
       ".dataframe > tbody > tr {\n",
       "  text-align: right;\n",
       "  white-space: pre-wrap;\n",
       "}\n",
       "</style>\n",
       "<small>shape: (1_555_687, 6)</small><table border=\"1\" class=\"dataframe\"><thead><tr><th>title</th><th>description</th><th>category_id</th><th>author_id</th><th>v_duration</th><th>v_total_comments</th></tr><tr><td>str</td><td>str</td><td>str</td><td>str</td><td>f64</td><td>u64</td></tr></thead><tbody><tr><td>&quot;пережила свой яд&quot;</td><td>&quot;&quot;</td><td>&quot;Мультфильмы&quot;</td><td>&quot;79276150-fdaf-4626-9452-6f1ad9…</td><td>7.733</td><td>0</td></tr><tr><td>&quot;🎓Знаете ли Вы, что  ؟    Интер…</td><td>&quot;🎓Знаете ли Вы, что  ?  Интерес…</td><td>&quot;Развлечения&quot;</td><td>&quot;16278647-5912-48af-a071-582dcf…</td><td>379.0</td><td>0</td></tr><tr><td>&quot;ЗИМНЯЯ, ТЕПЛАЯ ШЛЯПА крючком. …</td><td>&quot;Шляпа связана из пряжи NAKO Sp…</td><td>&quot;Хобби&quot;</td><td>&quot;9afa94aa-c2a6-43fc-a0d1-175eaf…</td><td>1020.767</td><td>0</td></tr><tr><td>&quot;найк&quot;</td><td>&quot;найк дрессура &quot;</td><td>&quot;Животные&quot;</td><td>&quot;4af9b043-40f4-4288-85c6-192612…</td><td>42.025</td><td>0</td></tr><tr><td>&quot;SHACMAN. Шакман замена двухряд…</td><td>&quot;&quot;</td><td>&quot;Разное&quot;</td><td>&quot;841e6bd8-0015-4502-a3e9-aaa071…</td><td>695.647</td><td>0</td></tr><tr><td>&hellip;</td><td>&hellip;</td><td>&hellip;</td><td>&hellip;</td><td>&hellip;</td><td>&hellip;</td></tr><tr><td>&quot;Сергий против нечисти сериал /…</td><td>&quot;сергий против нечисти смотреть…</td><td>&quot;Сериалы&quot;</td><td>&quot;3d4ea198-d327-4e21-af62-3e93fc…</td><td>92.996</td><td>0</td></tr><tr><td>&quot;Greece 2-1 Nigeria&quot;</td><td>&quot;&quot;</td><td>&quot;Спорт&quot;</td><td>&quot;69573325-e993-43f4-accd-1ddb52…</td><td>65.28</td><td>0</td></tr><tr><td>&quot;Сказочный патруль когда выйдут…</td><td>&quot;&quot;</td><td>&quot;Лайфстайл&quot;</td><td>&quot;307f2310-337d-4065-990d-376352…</td><td>94.134</td><td>0</td></tr><tr><td>&quot;Гайд на 120 фпс // Разблокиров…</td><td>&quot;#120fps #120fps_blitz 0:19 Пре…</td><td>&quot;Разное&quot;</td><td>&quot;f8daacc1-aa63-4721-94b8-153a69…</td><td>321.829</td><td>0</td></tr><tr><td>&quot;Как намотать нитку на шпульку&quot;</td><td>&quot;В этом видео я покажу, как нам…</td><td>&quot;Разное&quot;</td><td>&quot;ef924263-719d-4817-8206-eff48b…</td><td>102.493</td><td>0</td></tr></tbody></table></div>"
      ],
      "text/plain": [
       "shape: (1_555_687, 6)\n",
       "┌─────────────────┬─────────────────┬─────────────┬─────────────────┬────────────┬─────────────────┐\n",
       "│ title           ┆ description     ┆ category_id ┆ author_id       ┆ v_duration ┆ v_total_comment │\n",
       "│ ---             ┆ ---             ┆ ---         ┆ ---             ┆ ---        ┆ s               │\n",
       "│ str             ┆ str             ┆ str         ┆ str             ┆ f64        ┆ ---             │\n",
       "│                 ┆                 ┆             ┆                 ┆            ┆ u64             │\n",
       "╞═════════════════╪═════════════════╪═════════════╪═════════════════╪════════════╪═════════════════╡\n",
       "│ пережила свой   ┆                 ┆ Мультфильмы ┆ 79276150-fdaf-4 ┆ 7.733      ┆ 0               │\n",
       "│ яд              ┆                 ┆             ┆ 626-9452-6f1ad9 ┆            ┆                 │\n",
       "│                 ┆                 ┆             ┆ …               ┆            ┆                 │\n",
       "│ 🎓Знаете ли Вы, ┆ 🎓Знаете ли Вы, ┆ Развлечения ┆ 16278647-5912-4 ┆ 379.0      ┆ 0               │\n",
       "│ что  ؟          ┆ что  ?          ┆             ┆ 8af-a071-582dcf ┆            ┆                 │\n",
       "│ Интер…          ┆ Интерес…        ┆             ┆ …               ┆            ┆                 │\n",
       "│ ЗИМНЯЯ, ТЕПЛАЯ  ┆ Шляпа связана   ┆ Хобби       ┆ 9afa94aa-c2a6-4 ┆ 1020.767   ┆ 0               │\n",
       "│ ШЛЯПА крючком.  ┆ из пряжи NAKO   ┆             ┆ 3fc-a0d1-175eaf ┆            ┆                 │\n",
       "│ …               ┆ Sp…             ┆             ┆ …               ┆            ┆                 │\n",
       "│ найк            ┆ найк дрессура   ┆ Животные    ┆ 4af9b043-40f4-4 ┆ 42.025     ┆ 0               │\n",
       "│                 ┆                 ┆             ┆ 288-85c6-192612 ┆            ┆                 │\n",
       "│                 ┆                 ┆             ┆ …               ┆            ┆                 │\n",
       "│ SHACMAN. Шакман ┆                 ┆ Разное      ┆ 841e6bd8-0015-4 ┆ 695.647    ┆ 0               │\n",
       "│ замена двухряд… ┆                 ┆             ┆ 502-a3e9-aaa071 ┆            ┆                 │\n",
       "│                 ┆                 ┆             ┆ …               ┆            ┆                 │\n",
       "│ …               ┆ …               ┆ …           ┆ …               ┆ …          ┆ …               │\n",
       "│ Сергий против   ┆ сергий против   ┆ Сериалы     ┆ 3d4ea198-d327-4 ┆ 92.996     ┆ 0               │\n",
       "│ нечисти сериал  ┆ нечисти         ┆             ┆ e21-af62-3e93fc ┆            ┆                 │\n",
       "│ /…              ┆ смотреть…       ┆             ┆ …               ┆            ┆                 │\n",
       "│ Greece 2-1      ┆                 ┆ Спорт       ┆ 69573325-e993-4 ┆ 65.28      ┆ 0               │\n",
       "│ Nigeria         ┆                 ┆             ┆ 3f4-accd-1ddb52 ┆            ┆                 │\n",
       "│                 ┆                 ┆             ┆ …               ┆            ┆                 │\n",
       "│ Сказочный       ┆                 ┆ Лайфстайл   ┆ 307f2310-337d-4 ┆ 94.134     ┆ 0               │\n",
       "│ патруль когда   ┆                 ┆             ┆ 065-990d-376352 ┆            ┆                 │\n",
       "│ выйдут…         ┆                 ┆             ┆ …               ┆            ┆                 │\n",
       "│ Гайд на 120 фпс ┆ #120fps         ┆ Разное      ┆ f8daacc1-aa63-4 ┆ 321.829    ┆ 0               │\n",
       "│ // Разблокиров… ┆ #120fps_blitz   ┆             ┆ 721-94b8-153a69 ┆            ┆                 │\n",
       "│                 ┆ 0:19 Пре…       ┆             ┆ …               ┆            ┆                 │\n",
       "│ Как намотать    ┆ В этом видео я  ┆ Разное      ┆ ef924263-719d-4 ┆ 102.493    ┆ 0               │\n",
       "│ нитку на        ┆ покажу, как     ┆             ┆ 817-8206-eff48b ┆            ┆                 │\n",
       "│ шпульку         ┆ нам…            ┆             ┆ …               ┆            ┆                 │\n",
       "└─────────────────┴─────────────────┴─────────────┴─────────────────┴────────────┴─────────────────┘"
      ]
     },
     "execution_count": 2,
     "metadata": {},
     "output_type": "execute_result"
    }
   ],
   "source": [
    "clusterize_df = video_stat.select(pl.col(\"title\", \"description\", \"category_id\", \"author_id\", \"v_duration\", \"v_total_comments\"))\n",
    "clusterize_df"
   ]
  },
  {
   "cell_type": "code",
   "execution_count": 3,
   "id": "b756b7b3-492a-49ef-afbb-a9b30cfc385e",
   "metadata": {},
   "outputs": [
    {
     "name": "stderr",
     "output_type": "stream",
     "text": [
      "/home/user1/.local/lib/python3.10/site-packages/sentence_transformers/cross_encoder/CrossEncoder.py:13: TqdmExperimentalWarning: Using `tqdm.autonotebook.tqdm` in notebook mode. Use `tqdm.tqdm` instead to force console mode (e.g. in jupyter console)\n",
      "  from tqdm.autonotebook import tqdm, trange\n",
      "/usr/local/lib/python3.10/dist-packages/transformers/tokenization_utils_base.py:1617: FutureWarning: `clean_up_tokenization_spaces` was not set. It will be set to `True` by default. This behavior will be deprecated in transformers v4.45, and will be then set to `False` by default. For more details check this issue: https://github.com/huggingface/transformers/issues/31884\n",
      "  warnings.warn(\n"
     ]
    }
   ],
   "source": [
    "from sentence_transformers import SentenceTransformer\n",
    "\n",
    "model = SentenceTransformer(\"all-MiniLM-L6-v2\")\n",
    "\n",
    "def embed(cell):\n",
    "    embeddings = model.encode(cell)\n",
    "    return embeddings"
   ]
  },
  {
   "cell_type": "code",
   "execution_count": 68,
   "id": "917f9ca9-61ef-48b5-a92f-73ad48ef3bee",
   "metadata": {},
   "outputs": [],
   "source": [
    "category_id_onehots = clusterize_df.select(pl.col(\"category_id\").unique()).to_dummies()\n",
    "author_id_onehots = clusterize_df.select(pl.col(\"author_id\").unique()).to_dummies()\n",
    "onehots = pl.concat([category_id_onehots, author_id_onehots], how=\"horizontal\")"
   ]
  },
  {
   "cell_type": "code",
   "execution_count": 59,
   "id": "b5635cb0-41a5-47ea-9469-eb52102ac2d7",
   "metadata": {},
   "outputs": [],
   "source": [
    "import polars.selectors as cs\n",
    "\n",
    "def onehot(cell):\n",
    "    return onehots.select(cs.ends_with(cell))"
   ]
  },
  {
   "cell_type": "code",
   "execution_count": 71,
   "id": "e6e98109-2bf5-4433-8a44-9d1c464b1fbe",
   "metadata": {},
   "outputs": [
    {
     "data": {
      "text/html": [
       "<div><style>\n",
       ".dataframe > thead > tr,\n",
       ".dataframe > tbody > tr {\n",
       "  text-align: right;\n",
       "  white-space: pre-wrap;\n",
       "}\n",
       "</style>\n",
       "<small>shape: (10, 6)</small><table border=\"1\" class=\"dataframe\"><thead><tr><th>title</th><th>description</th><th>category_id</th><th>author_id</th><th>v_duration</th><th>v_duration_float</th></tr><tr><td>list[f64]</td><td>list[f64]</td><td>list[f64]</td><td>list[f64]</td><td>f64</td><td>f64</td></tr></thead><tbody><tr><td>[-0.01978, 0.091611, … -0.042948]</td><td>[-0.118838, 0.048299, … -0.015717]</td><td>[0.0, 0.0, … null]</td><td>[0.0, 0.0, … 0.0]</td><td>7.733</td><td>7.733</td></tr><tr><td>[0.023085, 0.021819, … -0.032061]</td><td>[-0.016547, 0.00371, … 0.002566]</td><td>[0.0, 0.0, … null]</td><td>[0.0, 0.0, … 0.0]</td><td>379.0</td><td>379.0</td></tr><tr><td>[0.046951, 0.041459, … 0.017916]</td><td>[0.01504, 0.1104, … 0.049758]</td><td>[1.0, 0.0, … null]</td><td>[0.0, 0.0, … 0.0]</td><td>1020.767</td><td>1020.767</td></tr><tr><td>[-0.016449, 0.080678, … -0.054051]</td><td>[0.008229, 0.092606, … -0.024777]</td><td>[0.0, 0.0, … null]</td><td>[0.0, 0.0, … 0.0]</td><td>42.025</td><td>42.025</td></tr><tr><td>[-0.003219, 0.084408, … 0.044316]</td><td>[-0.118838, 0.048299, … -0.015717]</td><td>[0.0, 0.0, … null]</td><td>[0.0, 0.0, … 0.0]</td><td>695.647</td><td>695.647</td></tr><tr><td>[0.035914, 0.097958, … 0.027515]</td><td>[-0.039893, -0.016663, … 0.011112]</td><td>[0.0, 0.0, … null]</td><td>[0.0, 0.0, … 0.0]</td><td>366.806</td><td>366.806</td></tr><tr><td>[0.056369, 0.045596, … 0.010662]</td><td>[-0.118838, 0.048299, … -0.015717]</td><td>[0.0, 0.0, … null]</td><td>[0.0, 0.0, … 0.0]</td><td>611.734</td><td>611.734</td></tr><tr><td>[-0.033536, 0.08908, … -0.055459]</td><td>[-0.118838, 0.048299, … -0.015717]</td><td>[0.0, 0.0, … null]</td><td>[0.0, 0.0, … 0.0]</td><td>715.245</td><td>715.245</td></tr><tr><td>[0.070164, 0.011413, … -0.078438]</td><td>[0.021666, 0.018132, … -0.029757]</td><td>[0.0, 0.0, … null]</td><td>[0.0, 0.0, … 0.0]</td><td>1470.337</td><td>1470.337</td></tr><tr><td>[0.046869, 0.06573, … -0.02786]</td><td>[-0.016383, -0.034844, … -0.035318]</td><td>[0.0, 0.0, … null]</td><td>[0.0, 0.0, … 0.0]</td><td>892.76</td><td>892.76</td></tr></tbody></table></div>"
      ],
      "text/plain": [
       "shape: (10, 6)\n",
       "┌─────────────┬──────────────┬──────────────┬────────────────────┬────────────┬────────────────────┐\n",
       "│ title       ┆ description  ┆ category_id  ┆ author_id          ┆ v_duration ┆ v_duration_float   │\n",
       "│ ---         ┆ ---          ┆ ---          ┆ ---                ┆ ---        ┆ ---                │\n",
       "│ list[f64]   ┆ list[f64]    ┆ list[f64]    ┆ list[f64]          ┆ f64        ┆ f64                │\n",
       "╞═════════════╪══════════════╪══════════════╪════════════════════╪════════════╪════════════════════╡\n",
       "│ [-0.01978,  ┆ [-0.118838,  ┆ [0.0, 0.0, … ┆ [0.0, 0.0, … 0.0]  ┆ 7.733      ┆ 7.733              │\n",
       "│ 0.091611, … ┆ 0.048299, …  ┆ null]        ┆                    ┆            ┆                    │\n",
       "│ -0.0429…    ┆ -0.015…      ┆              ┆                    ┆            ┆                    │\n",
       "│ [0.023085,  ┆ [-0.016547,  ┆ [0.0, 0.0, … ┆ [0.0, 0.0, … 0.0]  ┆ 379.0      ┆ 379.0              │\n",
       "│ 0.021819, … ┆ 0.00371, …   ┆ null]        ┆                    ┆            ┆                    │\n",
       "│ -0.0320…    ┆ 0.00256…     ┆              ┆                    ┆            ┆                    │\n",
       "│ [0.046951,  ┆ [0.01504,    ┆ [1.0, 0.0, … ┆ [0.0, 0.0, … 0.0]  ┆ 1020.767   ┆ 1020.767           │\n",
       "│ 0.041459, … ┆ 0.1104, …    ┆ null]        ┆                    ┆            ┆                    │\n",
       "│ 0.01791…    ┆ 0.049758]    ┆              ┆                    ┆            ┆                    │\n",
       "│ [-0.016449, ┆ [0.008229,   ┆ [0.0, 0.0, … ┆ [0.0, 0.0, … 0.0]  ┆ 42.025     ┆ 42.025             │\n",
       "│ 0.080678, … ┆ 0.092606, …  ┆ null]        ┆                    ┆            ┆                    │\n",
       "│ -0.054…     ┆ -0.0247…     ┆              ┆                    ┆            ┆                    │\n",
       "│ [-0.003219, ┆ [-0.118838,  ┆ [0.0, 0.0, … ┆ [0.0, 0.0, … 0.0]  ┆ 695.647    ┆ 695.647            │\n",
       "│ 0.084408, … ┆ 0.048299, …  ┆ null]        ┆                    ┆            ┆                    │\n",
       "│ 0.0443…     ┆ -0.015…      ┆              ┆                    ┆            ┆                    │\n",
       "│ [0.035914,  ┆ [-0.039893,  ┆ [0.0, 0.0, … ┆ [0.0, 0.0, … 0.0]  ┆ 366.806    ┆ 366.806            │\n",
       "│ 0.097958, … ┆ -0.016663, … ┆ null]        ┆                    ┆            ┆                    │\n",
       "│ 0.02751…    ┆ 0.011…       ┆              ┆                    ┆            ┆                    │\n",
       "│ [0.056369,  ┆ [-0.118838,  ┆ [0.0, 0.0, … ┆ [0.0, 0.0, … 0.0]  ┆ 611.734    ┆ 611.734            │\n",
       "│ 0.045596, … ┆ 0.048299, …  ┆ null]        ┆                    ┆            ┆                    │\n",
       "│ 0.01066…    ┆ -0.015…      ┆              ┆                    ┆            ┆                    │\n",
       "│ [-0.033536, ┆ [-0.118838,  ┆ [0.0, 0.0, … ┆ [0.0, 0.0, … 0.0]  ┆ 715.245    ┆ 715.245            │\n",
       "│ 0.08908, …  ┆ 0.048299, …  ┆ null]        ┆                    ┆            ┆                    │\n",
       "│ -0.0554…    ┆ -0.015…      ┆              ┆                    ┆            ┆                    │\n",
       "│ [0.070164,  ┆ [0.021666,   ┆ [0.0, 0.0, … ┆ [0.0, 0.0, … 0.0]  ┆ 1470.337   ┆ 1470.337           │\n",
       "│ 0.011413, … ┆ 0.018132, …  ┆ null]        ┆                    ┆            ┆                    │\n",
       "│ -0.0784…    ┆ -0.0297…     ┆              ┆                    ┆            ┆                    │\n",
       "│ [0.046869,  ┆ [-0.016383,  ┆ [0.0, 0.0, … ┆ [0.0, 0.0, … 0.0]  ┆ 892.76     ┆ 892.76             │\n",
       "│ 0.06573, …  ┆ -0.034844, … ┆ null]        ┆                    ┆            ┆                    │\n",
       "│ -0.02786…   ┆ -0.03…       ┆              ┆                    ┆            ┆                    │\n",
       "└─────────────┴──────────────┴──────────────┴────────────────────┴────────────┴────────────────────┘"
      ]
     },
     "execution_count": 71,
     "metadata": {},
     "output_type": "execute_result"
    }
   ],
   "source": [
    "normalized_df = clusterize_df.limit(10).select(\n",
    "    pl.col(\"title\").map_elements(embed, return_dtype=pl.List(pl.Float64)),\n",
    "    pl.col(\"description\").map_elements(embed, return_dtype=pl.List(pl.Float64)),\n",
    "    pl.col(\"category_id\").map_elements(onehot, return_dtype=pl.List(pl.Float64)),\n",
    "    pl.col(\"author_id\").map_elements(onehot, return_dtype=pl.List(pl.Float64)),\n",
    "    pl.col(\"v_duration\"),\n",
    "    pl.col(\"v_duration\").cast(pl.Float64).alias(\"v_duration_float\"),\n",
    ")\n",
    "normalized_df"
   ]
  },
  {
   "cell_type": "code",
   "execution_count": 82,
   "id": "70cece3f-693c-49ec-8337-79ce7ade87da",
   "metadata": {},
   "outputs": [
    {
     "data": {
      "text/plain": [
       "Schema([('title', List(Float64)),\n",
       "        ('description', List(Float64)),\n",
       "        ('category_id', List(Float64)),\n",
       "        ('author_id', List(Float64)),\n",
       "        ('v_duration', Float64),\n",
       "        ('v_duration_float', Float64)])"
      ]
     },
     "execution_count": 82,
     "metadata": {},
     "output_type": "execute_result"
    }
   ],
   "source": [
    "normalized_df.schema"
   ]
  },
  {
   "cell_type": "code",
   "execution_count": null,
   "id": "e7e3e184-47eb-4409-ad9b-899d23214b76",
   "metadata": {},
   "outputs": [],
   "source": []
  }
 ],
 "metadata": {
  "kernelspec": {
   "display_name": "Python 3 (ipykernel)",
   "language": "python",
   "name": "python3"
  },
  "language_info": {
   "codemirror_mode": {
    "name": "ipython",
    "version": 3
   },
   "file_extension": ".py",
   "mimetype": "text/x-python",
   "name": "python",
   "nbconvert_exporter": "python",
   "pygments_lexer": "ipython3",
   "version": "3.10.12"
  }
 },
 "nbformat": 4,
 "nbformat_minor": 5
}
