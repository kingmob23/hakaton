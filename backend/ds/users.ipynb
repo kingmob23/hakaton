{
 "cells": [
  {
   "cell_type": "code",
   "execution_count": 1,
   "id": "3d335076-c821-4d23-96f0-ba6f5e12e2df",
   "metadata": {},
   "outputs": [],
   "source": [
    "import polars as pl\n",
    "\n",
    "parquet_files = [\n",
    "    \"logs_df_2024-07-08.parquet\",\n",
    "]\n",
    "\n",
    "df = pl.read_parquet(\"logs_df_2024-07-08.parquet\")"
   ]
  },
  {
   "cell_type": "code",
   "execution_count": 2,
   "id": "25b988ea-9d36-419d-9eb1-5b820bd2425e",
   "metadata": {},
   "outputs": [
    {
     "data": {
      "text/html": [
       "<div><style>\n",
       ".dataframe > thead > tr,\n",
       ".dataframe > tbody > tr {\n",
       "  text-align: right;\n",
       "  white-space: pre-wrap;\n",
       "}\n",
       "</style>\n",
       "<small>shape: (17_224_936, 7)</small><table border=\"1\" class=\"dataframe\"><thead><tr><th>event_timestamp</th><th>user_id</th><th>region</th><th>city</th><th>video_id</th><th>watchtime</th><th>__index_level_0__</th></tr><tr><td>datetime[ms, Etc/GMT-3]</td><td>str</td><td>str</td><td>str</td><td>str</td><td>i64</td><td>i64</td></tr></thead><tbody><tr><td>2024-07-08 16:13:59 +03</td><td>&quot;5ab7c3c3-2ba8-4d61-b81e-8722d1…</td><td>&quot;d0a727cb-ac6b-4bf7-8449-73a577…</td><td>&quot;daa223d9-5a07-4723-8b1c-e0660f…</td><td>&quot;6ba4b910-2b84-462e-92c7-477d29…</td><td>1</td><td>0</td></tr><tr><td>2024-07-08 06:29:48 +03</td><td>&quot;ad8fdd37-b467-473a-8fd8-121013…</td><td>&quot;1252b9d0-d457-4967-b0a8-c3b3fc…</td><td>&quot;d228cf4d-daae-4a4c-b9e0-aa64d8…</td><td>&quot;a766398d-ae80-4e6d-8da6-dc3069…</td><td>673</td><td>1</td></tr><tr><td>2024-07-08 19:58:10 +03</td><td>&quot;dcfcfe10-dfd1-4d27-a72b-9c324d…</td><td>&quot;5e72a4fe-48c1-4b6c-9b85-078f49…</td><td>&quot;c8910e58-e5da-4ba9-bb99-1c8152…</td><td>&quot;c36d9722-e24c-4cc1-b4e6-692eb1…</td><td>16</td><td>2</td></tr><tr><td>2024-07-08 10:09:43 +03</td><td>&quot;0a169743-1bed-4ce8-80dd-c5b770…</td><td>&quot;57ca7ea4-0a03-465d-9302-6ec6b3…</td><td>&quot;633d9f2d-7453-417d-8454-0ce9f9…</td><td>&quot;ec9925eb-5d7d-4b7a-8646-aa6876…</td><td>2</td><td>3</td></tr><tr><td>2024-07-08 19:15:16 +03</td><td>&quot;08ff79ea-afa2-4562-b808-380f29…</td><td>&quot;4496e8c2-fe04-4654-995c-4e3917…</td><td>&quot;62453693-e6de-4ff7-a06c-1ba765…</td><td>&quot;9d000f21-5760-481c-9b66-552dd2…</td><td>5749</td><td>4</td></tr><tr><td>&hellip;</td><td>&hellip;</td><td>&hellip;</td><td>&hellip;</td><td>&hellip;</td><td>&hellip;</td><td>&hellip;</td></tr><tr><td>2024-07-08 15:21:52 +03</td><td>&quot;d25fbd66-09ed-49d4-b19e-766291…</td><td>&quot;8a159dca-6240-4954-b39b-58734d…</td><td>&quot;feeacfe9-3207-41b5-bed8-223ec9…</td><td>&quot;c46484ef-72fb-4d63-9e48-2c73d2…</td><td>1254</td><td>18810176</td></tr><tr><td>2024-07-08 08:59:33 +03</td><td>&quot;6670e439-476f-49bd-b1f7-3b6aca…</td><td>&quot;7ef5cdcf-c69e-4124-a17b-a4db22…</td><td>&quot;c37340ba-8fc7-4999-940b-8e4f38…</td><td>&quot;110a905d-00de-4fbe-b708-0e436f…</td><td>21</td><td>18810177</td></tr><tr><td>2024-07-08 21:30:01 +03</td><td>&quot;0b880ff1-f439-4945-aa8f-25939e…</td><td>&quot;f5925ad5-7bc3-4c10-b14b-807f0c…</td><td>&quot;9d91a98f-7a35-48eb-987d-49a7fc…</td><td>&quot;1492b0d6-62fd-4ee2-b79b-37025d…</td><td>0</td><td>18810178</td></tr><tr><td>2024-07-08 14:31:50 +03</td><td>&quot;efb83425-1a64-42af-9e1b-d3dcce…</td><td>&quot;c3286c6b-68dc-4c41-ad08-5583a5…</td><td>&quot;3490d142-7ec4-45dd-9293-3bb072…</td><td>&quot;8e02799b-9129-4134-a263-7a81bf…</td><td>8990</td><td>18810180</td></tr><tr><td>2024-07-08 01:51:01 +03</td><td>&quot;98bbd27e-2120-4f21-866f-379257…</td><td>&quot;2c52a2a1-0ad9-416b-8f31-9ef820…</td><td>&quot;f6140536-2810-4d8d-9389-8ba1d9…</td><td>&quot;e191930e-dd00-4bfc-b172-da8e4a…</td><td>2662</td><td>18810181</td></tr></tbody></table></div>"
      ],
      "text/plain": [
       "shape: (17_224_936, 7)\n",
       "┌──────────────┬──────────────┬──────────────┬─────────────┬─────────────┬───────────┬─────────────┐\n",
       "│ event_timest ┆ user_id      ┆ region       ┆ city        ┆ video_id    ┆ watchtime ┆ __index_lev │\n",
       "│ amp          ┆ ---          ┆ ---          ┆ ---         ┆ ---         ┆ ---       ┆ el_0__      │\n",
       "│ ---          ┆ str          ┆ str          ┆ str         ┆ str         ┆ i64       ┆ ---         │\n",
       "│ datetime[ms, ┆              ┆              ┆             ┆             ┆           ┆ i64         │\n",
       "│ Etc/GMT-3]   ┆              ┆              ┆             ┆             ┆           ┆             │\n",
       "╞══════════════╪══════════════╪══════════════╪═════════════╪═════════════╪═══════════╪═════════════╡\n",
       "│ 2024-07-08   ┆ 5ab7c3c3-2ba ┆ d0a727cb-ac6 ┆ daa223d9-5a ┆ 6ba4b910-2b ┆ 1         ┆ 0           │\n",
       "│ 16:13:59 +03 ┆ 8-4d61-b81e- ┆ b-4bf7-8449- ┆ 07-4723-8b1 ┆ 84-462e-92c ┆           ┆             │\n",
       "│              ┆ 8722d1…      ┆ 73a577…      ┆ c-e0660f…   ┆ 7-477d29…   ┆           ┆             │\n",
       "│ 2024-07-08   ┆ ad8fdd37-b46 ┆ 1252b9d0-d45 ┆ d228cf4d-da ┆ a766398d-ae ┆ 673       ┆ 1           │\n",
       "│ 06:29:48 +03 ┆ 7-473a-8fd8- ┆ 7-4967-b0a8- ┆ ae-4a4c-b9e ┆ 80-4e6d-8da ┆           ┆             │\n",
       "│              ┆ 121013…      ┆ c3b3fc…      ┆ 0-aa64d8…   ┆ 6-dc3069…   ┆           ┆             │\n",
       "│ 2024-07-08   ┆ dcfcfe10-dfd ┆ 5e72a4fe-48c ┆ c8910e58-e5 ┆ c36d9722-e2 ┆ 16        ┆ 2           │\n",
       "│ 19:58:10 +03 ┆ 1-4d27-a72b- ┆ 1-4b6c-9b85- ┆ da-4ba9-bb9 ┆ 4c-4cc1-b4e ┆           ┆             │\n",
       "│              ┆ 9c324d…      ┆ 078f49…      ┆ 9-1c8152…   ┆ 6-692eb1…   ┆           ┆             │\n",
       "│ 2024-07-08   ┆ 0a169743-1be ┆ 57ca7ea4-0a0 ┆ 633d9f2d-74 ┆ ec9925eb-5d ┆ 2         ┆ 3           │\n",
       "│ 10:09:43 +03 ┆ d-4ce8-80dd- ┆ 3-465d-9302- ┆ 53-417d-845 ┆ 7d-4b7a-864 ┆           ┆             │\n",
       "│              ┆ c5b770…      ┆ 6ec6b3…      ┆ 4-0ce9f9…   ┆ 6-aa6876…   ┆           ┆             │\n",
       "│ 2024-07-08   ┆ 08ff79ea-afa ┆ 4496e8c2-fe0 ┆ 62453693-e6 ┆ 9d000f21-57 ┆ 5749      ┆ 4           │\n",
       "│ 19:15:16 +03 ┆ 2-4562-b808- ┆ 4-4654-995c- ┆ de-4ff7-a06 ┆ 60-481c-9b6 ┆           ┆             │\n",
       "│              ┆ 380f29…      ┆ 4e3917…      ┆ c-1ba765…   ┆ 6-552dd2…   ┆           ┆             │\n",
       "│ …            ┆ …            ┆ …            ┆ …           ┆ …           ┆ …         ┆ …           │\n",
       "│ 2024-07-08   ┆ d25fbd66-09e ┆ 8a159dca-624 ┆ feeacfe9-32 ┆ c46484ef-72 ┆ 1254      ┆ 18810176    │\n",
       "│ 15:21:52 +03 ┆ d-49d4-b19e- ┆ 0-4954-b39b- ┆ 07-41b5-bed ┆ fb-4d63-9e4 ┆           ┆             │\n",
       "│              ┆ 766291…      ┆ 58734d…      ┆ 8-223ec9…   ┆ 8-2c73d2…   ┆           ┆             │\n",
       "│ 2024-07-08   ┆ 6670e439-476 ┆ 7ef5cdcf-c69 ┆ c37340ba-8f ┆ 110a905d-00 ┆ 21        ┆ 18810177    │\n",
       "│ 08:59:33 +03 ┆ f-49bd-b1f7- ┆ e-4124-a17b- ┆ c7-4999-940 ┆ de-4fbe-b70 ┆           ┆             │\n",
       "│              ┆ 3b6aca…      ┆ a4db22…      ┆ b-8e4f38…   ┆ 8-0e436f…   ┆           ┆             │\n",
       "│ 2024-07-08   ┆ 0b880ff1-f43 ┆ f5925ad5-7bc ┆ 9d91a98f-7a ┆ 1492b0d6-62 ┆ 0         ┆ 18810178    │\n",
       "│ 21:30:01 +03 ┆ 9-4945-aa8f- ┆ 3-4c10-b14b- ┆ 35-48eb-987 ┆ fd-4ee2-b79 ┆           ┆             │\n",
       "│              ┆ 25939e…      ┆ 807f0c…      ┆ d-49a7fc…   ┆ b-37025d…   ┆           ┆             │\n",
       "│ 2024-07-08   ┆ efb83425-1a6 ┆ c3286c6b-68d ┆ 3490d142-7e ┆ 8e02799b-91 ┆ 8990      ┆ 18810180    │\n",
       "│ 14:31:50 +03 ┆ 4-42af-9e1b- ┆ c-4c41-ad08- ┆ c4-45dd-929 ┆ 29-4134-a26 ┆           ┆             │\n",
       "│              ┆ d3dcce…      ┆ 5583a5…      ┆ 3-3bb072…   ┆ 3-7a81bf…   ┆           ┆             │\n",
       "│ 2024-07-08   ┆ 98bbd27e-212 ┆ 2c52a2a1-0ad ┆ f6140536-28 ┆ e191930e-dd ┆ 2662      ┆ 18810181    │\n",
       "│ 01:51:01 +03 ┆ 0-4f21-866f- ┆ 9-416b-8f31- ┆ 10-4d8d-938 ┆ 00-4bfc-b17 ┆           ┆             │\n",
       "│              ┆ 379257…      ┆ 9ef820…      ┆ 9-8ba1d9…   ┆ 2-da8e4a…   ┆           ┆             │\n",
       "└──────────────┴──────────────┴──────────────┴─────────────┴─────────────┴───────────┴─────────────┘"
      ]
     },
     "execution_count": 2,
     "metadata": {},
     "output_type": "execute_result"
    }
   ],
   "source": [
    "df"
   ]
  },
  {
   "cell_type": "code",
   "execution_count": 3,
   "id": "3aae7492-417c-431b-9d20-2ffa7dbb161b",
   "metadata": {},
   "outputs": [
    {
     "data": {
      "text/html": [
       "<div><style>\n",
       ".dataframe > thead > tr,\n",
       ".dataframe > tbody > tr {\n",
       "  text-align: right;\n",
       "  white-space: pre-wrap;\n",
       "}\n",
       "</style>\n",
       "<small>shape: (17_224_936, 9)</small><table border=\"1\" class=\"dataframe\"><thead><tr><th>event_timestamp</th><th>user_id</th><th>region</th><th>city</th><th>video_id</th><th>watchtime</th><th>__index_level_0__</th><th>city_encoded</th><th>cluster</th></tr><tr><td>datetime[ms, Etc/GMT-3]</td><td>str</td><td>str</td><td>str</td><td>str</td><td>i64</td><td>i64</td><td>i64</td><td>i32</td></tr></thead><tbody><tr><td>2024-07-08 16:13:59 +03</td><td>&quot;5ab7c3c3-2ba8-4d61-b81e-8722d1…</td><td>&quot;d0a727cb-ac6b-4bf7-8449-73a577…</td><td>&quot;daa223d9-5a07-4723-8b1c-e0660f…</td><td>&quot;6ba4b910-2b84-462e-92c7-477d29…</td><td>1</td><td>0</td><td>1898</td><td>4</td></tr><tr><td>2024-07-08 06:29:48 +03</td><td>&quot;ad8fdd37-b467-473a-8fd8-121013…</td><td>&quot;1252b9d0-d457-4967-b0a8-c3b3fc…</td><td>&quot;d228cf4d-daae-4a4c-b9e0-aa64d8…</td><td>&quot;a766398d-ae80-4e6d-8da6-dc3069…</td><td>673</td><td>1</td><td>14550</td><td>1</td></tr><tr><td>2024-07-08 19:58:10 +03</td><td>&quot;dcfcfe10-dfd1-4d27-a72b-9c324d…</td><td>&quot;5e72a4fe-48c1-4b6c-9b85-078f49…</td><td>&quot;c8910e58-e5da-4ba9-bb99-1c8152…</td><td>&quot;c36d9722-e24c-4cc1-b4e6-692eb1…</td><td>16</td><td>2</td><td>1954</td><td>4</td></tr><tr><td>2024-07-08 10:09:43 +03</td><td>&quot;0a169743-1bed-4ce8-80dd-c5b770…</td><td>&quot;57ca7ea4-0a03-465d-9302-6ec6b3…</td><td>&quot;633d9f2d-7453-417d-8454-0ce9f9…</td><td>&quot;ec9925eb-5d7d-4b7a-8646-aa6876…</td><td>2</td><td>3</td><td>3288</td><td>0</td></tr><tr><td>2024-07-08 19:15:16 +03</td><td>&quot;08ff79ea-afa2-4562-b808-380f29…</td><td>&quot;4496e8c2-fe04-4654-995c-4e3917…</td><td>&quot;62453693-e6de-4ff7-a06c-1ba765…</td><td>&quot;9d000f21-5760-481c-9b66-552dd2…</td><td>5749</td><td>4</td><td>13433</td><td>1</td></tr><tr><td>&hellip;</td><td>&hellip;</td><td>&hellip;</td><td>&hellip;</td><td>&hellip;</td><td>&hellip;</td><td>&hellip;</td><td>&hellip;</td><td>&hellip;</td></tr><tr><td>2024-07-08 15:21:52 +03</td><td>&quot;d25fbd66-09ed-49d4-b19e-766291…</td><td>&quot;8a159dca-6240-4954-b39b-58734d…</td><td>&quot;feeacfe9-3207-41b5-bed8-223ec9…</td><td>&quot;c46484ef-72fb-4d63-9e48-2c73d2…</td><td>1254</td><td>18810176</td><td>11896</td><td>1</td></tr><tr><td>2024-07-08 08:59:33 +03</td><td>&quot;6670e439-476f-49bd-b1f7-3b6aca…</td><td>&quot;7ef5cdcf-c69e-4124-a17b-a4db22…</td><td>&quot;c37340ba-8fc7-4999-940b-8e4f38…</td><td>&quot;110a905d-00de-4fbe-b708-0e436f…</td><td>21</td><td>18810177</td><td>9960</td><td>3</td></tr><tr><td>2024-07-08 21:30:01 +03</td><td>&quot;0b880ff1-f439-4945-aa8f-25939e…</td><td>&quot;f5925ad5-7bc3-4c10-b14b-807f0c…</td><td>&quot;9d91a98f-7a35-48eb-987d-49a7fc…</td><td>&quot;1492b0d6-62fd-4ee2-b79b-37025d…</td><td>0</td><td>18810178</td><td>7880</td><td>3</td></tr><tr><td>2024-07-08 14:31:50 +03</td><td>&quot;efb83425-1a64-42af-9e1b-d3dcce…</td><td>&quot;c3286c6b-68dc-4c41-ad08-5583a5…</td><td>&quot;3490d142-7ec4-45dd-9293-3bb072…</td><td>&quot;8e02799b-9129-4134-a263-7a81bf…</td><td>8990</td><td>18810180</td><td>7762</td><td>3</td></tr><tr><td>2024-07-08 01:51:01 +03</td><td>&quot;98bbd27e-2120-4f21-866f-379257…</td><td>&quot;2c52a2a1-0ad9-416b-8f31-9ef820…</td><td>&quot;f6140536-2810-4d8d-9389-8ba1d9…</td><td>&quot;e191930e-dd00-4bfc-b172-da8e4a…</td><td>2662</td><td>18810181</td><td>13371</td><td>1</td></tr></tbody></table></div>"
      ],
      "text/plain": [
       "shape: (17_224_936, 9)\n",
       "┌────────────┬───────────┬───────────┬───────────┬───┬───────────┬───────────┬───────────┬─────────┐\n",
       "│ event_time ┆ user_id   ┆ region    ┆ city      ┆ … ┆ watchtime ┆ __index_l ┆ city_enco ┆ cluster │\n",
       "│ stamp      ┆ ---       ┆ ---       ┆ ---       ┆   ┆ ---       ┆ evel_0__  ┆ ded       ┆ ---     │\n",
       "│ ---        ┆ str       ┆ str       ┆ str       ┆   ┆ i64       ┆ ---       ┆ ---       ┆ i32     │\n",
       "│ datetime[m ┆           ┆           ┆           ┆   ┆           ┆ i64       ┆ i64       ┆         │\n",
       "│ s,         ┆           ┆           ┆           ┆   ┆           ┆           ┆           ┆         │\n",
       "│ Etc/GMT-3] ┆           ┆           ┆           ┆   ┆           ┆           ┆           ┆         │\n",
       "╞════════════╪═══════════╪═══════════╪═══════════╪═══╪═══════════╪═══════════╪═══════════╪═════════╡\n",
       "│ 2024-07-08 ┆ 5ab7c3c3- ┆ d0a727cb- ┆ daa223d9- ┆ … ┆ 1         ┆ 0         ┆ 1898      ┆ 4       │\n",
       "│ 16:13:59   ┆ 2ba8-4d61 ┆ ac6b-4bf7 ┆ 5a07-4723 ┆   ┆           ┆           ┆           ┆         │\n",
       "│ +03        ┆ -b81e-872 ┆ -8449-73a ┆ -8b1c-e06 ┆   ┆           ┆           ┆           ┆         │\n",
       "│            ┆ 2d1…      ┆ 577…      ┆ 60f…      ┆   ┆           ┆           ┆           ┆         │\n",
       "│ 2024-07-08 ┆ ad8fdd37- ┆ 1252b9d0- ┆ d228cf4d- ┆ … ┆ 673       ┆ 1         ┆ 14550     ┆ 1       │\n",
       "│ 06:29:48   ┆ b467-473a ┆ d457-4967 ┆ daae-4a4c ┆   ┆           ┆           ┆           ┆         │\n",
       "│ +03        ┆ -8fd8-121 ┆ -b0a8-c3b ┆ -b9e0-aa6 ┆   ┆           ┆           ┆           ┆         │\n",
       "│            ┆ 013…      ┆ 3fc…      ┆ 4d8…      ┆   ┆           ┆           ┆           ┆         │\n",
       "│ 2024-07-08 ┆ dcfcfe10- ┆ 5e72a4fe- ┆ c8910e58- ┆ … ┆ 16        ┆ 2         ┆ 1954      ┆ 4       │\n",
       "│ 19:58:10   ┆ dfd1-4d27 ┆ 48c1-4b6c ┆ e5da-4ba9 ┆   ┆           ┆           ┆           ┆         │\n",
       "│ +03        ┆ -a72b-9c3 ┆ -9b85-078 ┆ -bb99-1c8 ┆   ┆           ┆           ┆           ┆         │\n",
       "│            ┆ 24d…      ┆ f49…      ┆ 152…      ┆   ┆           ┆           ┆           ┆         │\n",
       "│ 2024-07-08 ┆ 0a169743- ┆ 57ca7ea4- ┆ 633d9f2d- ┆ … ┆ 2         ┆ 3         ┆ 3288      ┆ 0       │\n",
       "│ 10:09:43   ┆ 1bed-4ce8 ┆ 0a03-465d ┆ 7453-417d ┆   ┆           ┆           ┆           ┆         │\n",
       "│ +03        ┆ -80dd-c5b ┆ -9302-6ec ┆ -8454-0ce ┆   ┆           ┆           ┆           ┆         │\n",
       "│            ┆ 770…      ┆ 6b3…      ┆ 9f9…      ┆   ┆           ┆           ┆           ┆         │\n",
       "│ 2024-07-08 ┆ 08ff79ea- ┆ 4496e8c2- ┆ 62453693- ┆ … ┆ 5749      ┆ 4         ┆ 13433     ┆ 1       │\n",
       "│ 19:15:16   ┆ afa2-4562 ┆ fe04-4654 ┆ e6de-4ff7 ┆   ┆           ┆           ┆           ┆         │\n",
       "│ +03        ┆ -b808-380 ┆ -995c-4e3 ┆ -a06c-1ba ┆   ┆           ┆           ┆           ┆         │\n",
       "│            ┆ f29…      ┆ 917…      ┆ 765…      ┆   ┆           ┆           ┆           ┆         │\n",
       "│ …          ┆ …         ┆ …         ┆ …         ┆ … ┆ …         ┆ …         ┆ …         ┆ …       │\n",
       "│ 2024-07-08 ┆ d25fbd66- ┆ 8a159dca- ┆ feeacfe9- ┆ … ┆ 1254      ┆ 18810176  ┆ 11896     ┆ 1       │\n",
       "│ 15:21:52   ┆ 09ed-49d4 ┆ 6240-4954 ┆ 3207-41b5 ┆   ┆           ┆           ┆           ┆         │\n",
       "│ +03        ┆ -b19e-766 ┆ -b39b-587 ┆ -bed8-223 ┆   ┆           ┆           ┆           ┆         │\n",
       "│            ┆ 291…      ┆ 34d…      ┆ ec9…      ┆   ┆           ┆           ┆           ┆         │\n",
       "│ 2024-07-08 ┆ 6670e439- ┆ 7ef5cdcf- ┆ c37340ba- ┆ … ┆ 21        ┆ 18810177  ┆ 9960      ┆ 3       │\n",
       "│ 08:59:33   ┆ 476f-49bd ┆ c69e-4124 ┆ 8fc7-4999 ┆   ┆           ┆           ┆           ┆         │\n",
       "│ +03        ┆ -b1f7-3b6 ┆ -a17b-a4d ┆ -940b-8e4 ┆   ┆           ┆           ┆           ┆         │\n",
       "│            ┆ aca…      ┆ b22…      ┆ f38…      ┆   ┆           ┆           ┆           ┆         │\n",
       "│ 2024-07-08 ┆ 0b880ff1- ┆ f5925ad5- ┆ 9d91a98f- ┆ … ┆ 0         ┆ 18810178  ┆ 7880      ┆ 3       │\n",
       "│ 21:30:01   ┆ f439-4945 ┆ 7bc3-4c10 ┆ 7a35-48eb ┆   ┆           ┆           ┆           ┆         │\n",
       "│ +03        ┆ -aa8f-259 ┆ -b14b-807 ┆ -987d-49a ┆   ┆           ┆           ┆           ┆         │\n",
       "│            ┆ 39e…      ┆ f0c…      ┆ 7fc…      ┆   ┆           ┆           ┆           ┆         │\n",
       "│ 2024-07-08 ┆ efb83425- ┆ c3286c6b- ┆ 3490d142- ┆ … ┆ 8990      ┆ 18810180  ┆ 7762      ┆ 3       │\n",
       "│ 14:31:50   ┆ 1a64-42af ┆ 68dc-4c41 ┆ 7ec4-45dd ┆   ┆           ┆           ┆           ┆         │\n",
       "│ +03        ┆ -9e1b-d3d ┆ -ad08-558 ┆ -9293-3bb ┆   ┆           ┆           ┆           ┆         │\n",
       "│            ┆ cce…      ┆ 3a5…      ┆ 072…      ┆   ┆           ┆           ┆           ┆         │\n",
       "│ 2024-07-08 ┆ 98bbd27e- ┆ 2c52a2a1- ┆ f6140536- ┆ … ┆ 2662      ┆ 18810181  ┆ 13371     ┆ 1       │\n",
       "│ 01:51:01   ┆ 2120-4f21 ┆ 0ad9-416b ┆ 2810-4d8d ┆   ┆           ┆           ┆           ┆         │\n",
       "│ +03        ┆ -866f-379 ┆ -8f31-9ef ┆ -9389-8ba ┆   ┆           ┆           ┆           ┆         │\n",
       "│            ┆ 257…      ┆ 820…      ┆ 1d9…      ┆   ┆           ┆           ┆           ┆         │\n",
       "└────────────┴───────────┴───────────┴───────────┴───┴───────────┴───────────┴───────────┴─────────┘"
      ]
     },
     "execution_count": 3,
     "metadata": {},
     "output_type": "execute_result"
    }
   ],
   "source": [
    "import numpy as np\n",
    "from sklearn.cluster import KMeans\n",
    "\n",
    "# Создаем уникальные значения и их индексы\n",
    "unique_cities = df.select(pl.col(\"city\").unique().alias(\"city\")).with_columns(\n",
    "    pl.arange(0, pl.len()).alias(\"city_encoded\")\n",
    ")\n",
    "\n",
    "# Объединяем с оригинальным DataFrame для кодирования\n",
    "df = df.join(unique_cities, on=\"city\", how=\"left\")\n",
    "\n",
    "# Конвертация в numpy для кластеризации\n",
    "X = df['city_encoded'].to_numpy().reshape(-1, 1)\n",
    "\n",
    "# Кластеризация KMeans\n",
    "n_clusters = 5  # Укажите желаемое количество кластеров\n",
    "kmeans = KMeans(n_clusters=n_clusters, random_state=42)\n",
    "clusters = kmeans.fit_predict(X)\n",
    "\n",
    "# Добавляем результаты кластеризации в DataFrame\n",
    "df_w_cluster = df.with_columns(pl.lit(clusters).alias('cluster'))\n",
    "\n",
    "df_w_cluster"
   ]
  },
  {
   "cell_type": "code",
   "execution_count": 20,
   "id": "0d58c62a-2cbb-4d49-a29e-d8225f7a3511",
   "metadata": {},
   "outputs": [
    {
     "data": {
      "text/html": [
       "<div><style>\n",
       ".dataframe > thead > tr,\n",
       ".dataframe > tbody > tr {\n",
       "  text-align: right;\n",
       "  white-space: pre-wrap;\n",
       "}\n",
       "</style>\n",
       "<small>shape: (5, 2)</small><table border=\"1\" class=\"dataframe\"><thead><tr><th>cluster</th><th>len</th></tr><tr><td>i32</td><td>u32</td></tr></thead><tbody><tr><td>4</td><td>4236823</td></tr><tr><td>0</td><td>2559826</td></tr><tr><td>3</td><td>3604176</td></tr><tr><td>1</td><td>3240410</td></tr><tr><td>2</td><td>3583701</td></tr></tbody></table></div>"
      ],
      "text/plain": [
       "shape: (5, 2)\n",
       "┌─────────┬─────────┐\n",
       "│ cluster ┆ len     │\n",
       "│ ---     ┆ ---     │\n",
       "│ i32     ┆ u32     │\n",
       "╞═════════╪═════════╡\n",
       "│ 4       ┆ 4236823 │\n",
       "│ 0       ┆ 2559826 │\n",
       "│ 3       ┆ 3604176 │\n",
       "│ 1       ┆ 3240410 │\n",
       "│ 2       ┆ 3583701 │\n",
       "└─────────┴─────────┘"
      ]
     },
     "execution_count": 20,
     "metadata": {},
     "output_type": "execute_result"
    }
   ],
   "source": [
    "clusters_weight_df = df_w_cluster.group_by(\"cluster\").agg(pl.len()).sort(\"cluster\")\n",
    "clusters_weight_df"
   ]
  },
  {
   "cell_type": "code",
   "execution_count": 21,
   "id": "ddc58b1d-abf3-4f65-a552-ca784866e24d",
   "metadata": {},
   "outputs": [
    {
     "data": {
      "text/html": [
       "<div><style>\n",
       ".dataframe > thead > tr,\n",
       ".dataframe > tbody > tr {\n",
       "  text-align: right;\n",
       "  white-space: pre-wrap;\n",
       "}\n",
       "</style>\n",
       "<small>shape: (1, 1)</small><table border=\"1\" class=\"dataframe\"><thead><tr><th>len</th></tr><tr><td>bool</td></tr></thead><tbody><tr><td>true</td></tr></tbody></table></div>"
      ],
      "text/plain": [
       "shape: (1, 1)\n",
       "┌──────┐\n",
       "│ len  │\n",
       "│ ---  │\n",
       "│ bool │\n",
       "╞══════╡\n",
       "│ true │\n",
       "└──────┘"
      ]
     },
     "execution_count": 21,
     "metadata": {},
     "output_type": "execute_result"
    }
   ],
   "source": [
    "total_size = clusters_weight_df.select(pl.sum(\"len\"))\n",
    "total_size == df.shape[0]"
   ]
  },
  {
   "cell_type": "code",
   "execution_count": 22,
   "id": "1613c983-3860-4202-a950-9cb144df9667",
   "metadata": {},
   "outputs": [
    {
     "data": {
      "image/png": "[encoded data removed]",
      "text/plain": [
       "<Figure size 1000x600 with 1 Axes>"
      ]
     },
     "metadata": {},
     "output_type": "display_data"
    }
   ],
   "source": [
    "%matplotlib inline\n",
    "\n",
    "plt.figure(figsize=(10, 6))  # Настройте размер графика\n",
    "plt.bar(clusters_weight_df['cluster'], clusters_weight_df['len'])  # Создайте столбчатую диаграмму\n",
    "plt.xlabel('Cluster')  # Название оси X\n",
    "plt.ylabel('Length')  # Название оси Y\n",
    "plt.title('Распределение длины по кластерам')  # Заголовок графика\n",
    "plt.show()  # Отобразите график"
   ]
  },
  {
   "cell_type": "code",
   "execution_count": 10,
   "id": "9f8401f1-13fe-4224-8991-4230bfae75fc",
   "metadata": {},
   "outputs": [
    {
     "name": "stderr",
     "output_type": "stream",
     "text": [
      "/tmp/ipykernel_116903/3057922435.py:17: DeprecationWarning: Conversion of an array with ndim > 0 to a scalar is deprecated, and will error in future. Ensure you extract a single element from your array before performing this operation. (Deprecated NumPy 1.25.)\n",
      "  plt.xticks(np.arange(min(X), max(X) + 1, 1))  # Устанавливаем метки по оси X\n"
     ]
    },
    {
     "data": {
      "image/png": "[encoded data removed]",
      "text/plain": [
       "<Figure size 1000x600 with 2 Axes>"
      ]
     },
     "metadata": {},
     "output_type": "display_data"
    }
   ],
   "source": [
    "# Импорт необходимых библиотек\n",
    "import matplotlib.pyplot as plt\n",
    "import numpy as np\n",
    "from sklearn.cluster import KMeans\n",
    "\n",
    "# Убедитесь, что графики отображаются в ячейках Jupyter Notebook\n",
    "%matplotlib inline\n",
    "\n",
    "# Создание графика\n",
    "plt.figure(figsize=(10, 6))\n",
    "plt.scatter(range(10), range(10), c=clusters_weight_df, cmap='viridis', marker='o')\n",
    "\n",
    "# Настройка графика\n",
    "plt.title('Cluster Visualization')\n",
    "plt.xlabel('City Encoded')\n",
    "plt.yticks([])  # Убираем ось Y\n",
    "plt.xticks(np.arange(min(X), max(X) + 1, 1))  # Устанавливаем метки по оси X\n",
    "plt.colorbar(label='Cluster')\n",
    "\n",
    "# Показ графика\n",
    "plt.grid()\n",
    "plt.show()\n"
   ]
  },
  {
   "cell_type": "code",
   "execution_count": null,
   "id": "c17997bd-7d19-4a39-adfd-dcb4ecfe3fc7",
   "metadata": {},
   "outputs": [],
   "source": []
  }
 ],
 "metadata": {
  "kernelspec": {
   "display_name": "Python 3 (ipykernel)",
   "language": "python",
   "name": "python3"
  },
  "language_info": {
   "codemirror_mode": {
    "name": "ipython",
    "version": 3
   },
   "file_extension": ".py",
   "mimetype": "text/x-python",
   "name": "python",
   "nbconvert_exporter": "python",
   "pygments_lexer": "ipython3",
   "version": "3.10.12"
  }
 },
 "nbformat": 4,
 "nbformat_minor": 5
}
